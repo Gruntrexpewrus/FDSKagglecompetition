{
 "cells": [
  {
   "cell_type": "code",
   "execution_count": 57,
   "metadata": {},
   "outputs": [],
   "source": [
    "import pandas as pd\n",
    "import numpy as np\n",
    "from sklearn.model_selection import KFold\n",
    "from sklearn.linear_model import LogisticRegression\n",
    "from sklearn.metrics import roc_auc_score\n",
    "from sklearn.ensemble import RandomForestClassifier"
   ]
  },
  {
   "cell_type": "code",
   "execution_count": 2,
   "metadata": {},
   "outputs": [],
   "source": [
    "train_data = pd.read_csv(\"selected_features_train.csv\", index_col = 0)"
   ]
  },
  {
   "cell_type": "code",
   "execution_count": 3,
   "metadata": {},
   "outputs": [],
   "source": [
    "train_data[\"MISSING BUILDING DATA\"] = list(map(int, train_data[\"MISSING BUILDING DATA\"]))"
   ]
  },
  {
   "cell_type": "code",
   "execution_count": 14,
   "metadata": {},
   "outputs": [],
   "source": [
    "for feature in train_data.select_dtypes(\"object\").columns:\n",
    "    train_data[feature].fillna(train_data[feature].mode()[0], inplace = True)"
   ]
  },
  {
   "cell_type": "code",
   "execution_count": 17,
   "metadata": {},
   "outputs": [],
   "source": [
    "train_data = pd.get_dummies(train_data)"
   ]
  },
  {
   "cell_type": "code",
   "execution_count": 29,
   "metadata": {},
   "outputs": [],
   "source": [
    "for feature in train_data.select_dtypes(\"float64\").columns:\n",
    "    train_data[feature].fillna(train_data[feature].mean(), inplace = True)\n",
    "    \n",
    "for feature in train_data.select_dtypes(\"int64\").columns:\n",
    "    train_data[feature].fillna(train_data[feature].median(), inplace = True)"
   ]
  },
  {
   "cell_type": "code",
   "execution_count": 34,
   "metadata": {},
   "outputs": [],
   "source": [
    "k_fold = KFold(n_splits = 7, random_state = 42, shuffle = True)\n",
    "folds = []\n",
    "for train_index, test_index in k_fold.split(train_data):\n",
    "    to_append = {\"Train\" : train_data.iloc[train_index,], \"Test\" : train_data.iloc[test_index]}\n",
    "    folds.append(to_append)"
   ]
  },
  {
   "cell_type": "code",
   "execution_count": 58,
   "metadata": {
    "scrolled": true
   },
   "outputs": [
    {
     "name": "stdout",
     "output_type": "stream",
     "text": [
      "Hey\n",
      "Hey\n",
      "Hey\n",
      "Hey\n",
      "Hey\n",
      "Hey\n",
      "Hey\n"
     ]
    }
   ],
   "source": [
    "roc_scores = []\n",
    "for fold in folds:\n",
    "    reg = RandomForestClassifier(n_estimators = 20)\n",
    "    reg.fit(fold[\"Train\"].drop([\"TARGET\"], axis = 1), fold[\"Train\"][\"TARGET\"])\n",
    "    probabilities = reg.predict_proba(fold[\"Test\"].drop([\"TARGET\"], axis = 1))\n",
    "    roc_scores.append(roc_auc_score(fold[\"Test\"][\"TARGET\"], probabilities[:, 1]))\n",
    "    print(\"Hey\")"
   ]
  },
  {
   "cell_type": "code",
   "execution_count": 59,
   "metadata": {},
   "outputs": [
    {
     "data": {
      "text/plain": [
       "0.6724842602478402"
      ]
     },
     "execution_count": 59,
     "metadata": {},
     "output_type": "execute_result"
    }
   ],
   "source": [
    "sum(roc_scores) / len(roc_scores)"
   ]
  },
  {
   "cell_type": "code",
   "execution_count": null,
   "metadata": {},
   "outputs": [],
   "source": []
  }
 ],
 "metadata": {
  "kernelspec": {
   "display_name": "Python 3",
   "language": "python",
   "name": "python3"
  },
  "language_info": {
   "codemirror_mode": {
    "name": "ipython",
    "version": 3
   },
   "file_extension": ".py",
   "mimetype": "text/x-python",
   "name": "python",
   "nbconvert_exporter": "python",
   "pygments_lexer": "ipython3",
   "version": "3.7.4"
  }
 },
 "nbformat": 4,
 "nbformat_minor": 2
}
