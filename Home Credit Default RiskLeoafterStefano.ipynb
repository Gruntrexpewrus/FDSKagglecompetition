{
 "cells": [
  {
   "cell_type": "code",
   "execution_count": 1,
   "metadata": {},
   "outputs": [],
   "source": [
    "import numpy as np\n",
    "import pandas as pd\n",
    "import seaborn as sns\n",
    "import matplotlib.pyplot as plt"
   ]
  },
  {
   "cell_type": "markdown",
   "metadata": {},
   "source": [
    "# Exploratory data analysis\n",
    "Here we start exploring the data to find out how we should proceed. Thus we visualize the data and we look for missing as well as inconsistent entries. We obviously start by uploading our two main tables."
   ]
  },
  {
   "cell_type": "code",
   "execution_count": 2,
   "metadata": {},
   "outputs": [],
   "source": [
    "application_train = pd.read_csv(\"application_train.csv\")\n",
    "application_test = pd.read_csv(\"application_test.csv\")"
   ]
  },
  {
   "cell_type": "code",
   "execution_count": 3,
   "metadata": {
    "scrolled": false
   },
   "outputs": [
    {
     "data": {
      "text/html": [
       "<div>\n",
       "<style scoped>\n",
       "    .dataframe tbody tr th:only-of-type {\n",
       "        vertical-align: middle;\n",
       "    }\n",
       "\n",
       "    .dataframe tbody tr th {\n",
       "        vertical-align: top;\n",
       "    }\n",
       "\n",
       "    .dataframe thead th {\n",
       "        text-align: right;\n",
       "    }\n",
       "</style>\n",
       "<table border=\"1\" class=\"dataframe\">\n",
       "  <thead>\n",
       "    <tr style=\"text-align: right;\">\n",
       "      <th></th>\n",
       "      <th>SK_ID_CURR</th>\n",
       "      <th>TARGET</th>\n",
       "      <th>NAME_CONTRACT_TYPE</th>\n",
       "      <th>CODE_GENDER</th>\n",
       "      <th>FLAG_OWN_CAR</th>\n",
       "      <th>FLAG_OWN_REALTY</th>\n",
       "      <th>CNT_CHILDREN</th>\n",
       "      <th>AMT_INCOME_TOTAL</th>\n",
       "      <th>AMT_CREDIT</th>\n",
       "      <th>AMT_ANNUITY</th>\n",
       "      <th>...</th>\n",
       "      <th>FLAG_DOCUMENT_18</th>\n",
       "      <th>FLAG_DOCUMENT_19</th>\n",
       "      <th>FLAG_DOCUMENT_20</th>\n",
       "      <th>FLAG_DOCUMENT_21</th>\n",
       "      <th>AMT_REQ_CREDIT_BUREAU_HOUR</th>\n",
       "      <th>AMT_REQ_CREDIT_BUREAU_DAY</th>\n",
       "      <th>AMT_REQ_CREDIT_BUREAU_WEEK</th>\n",
       "      <th>AMT_REQ_CREDIT_BUREAU_MON</th>\n",
       "      <th>AMT_REQ_CREDIT_BUREAU_QRT</th>\n",
       "      <th>AMT_REQ_CREDIT_BUREAU_YEAR</th>\n",
       "    </tr>\n",
       "  </thead>\n",
       "  <tbody>\n",
       "    <tr>\n",
       "      <th>0</th>\n",
       "      <td>100002</td>\n",
       "      <td>1</td>\n",
       "      <td>Cash loans</td>\n",
       "      <td>M</td>\n",
       "      <td>N</td>\n",
       "      <td>Y</td>\n",
       "      <td>0</td>\n",
       "      <td>202500.0</td>\n",
       "      <td>406597.5</td>\n",
       "      <td>24700.5</td>\n",
       "      <td>...</td>\n",
       "      <td>0</td>\n",
       "      <td>0</td>\n",
       "      <td>0</td>\n",
       "      <td>0</td>\n",
       "      <td>0.0</td>\n",
       "      <td>0.0</td>\n",
       "      <td>0.0</td>\n",
       "      <td>0.0</td>\n",
       "      <td>0.0</td>\n",
       "      <td>1.0</td>\n",
       "    </tr>\n",
       "    <tr>\n",
       "      <th>1</th>\n",
       "      <td>100003</td>\n",
       "      <td>0</td>\n",
       "      <td>Cash loans</td>\n",
       "      <td>F</td>\n",
       "      <td>N</td>\n",
       "      <td>N</td>\n",
       "      <td>0</td>\n",
       "      <td>270000.0</td>\n",
       "      <td>1293502.5</td>\n",
       "      <td>35698.5</td>\n",
       "      <td>...</td>\n",
       "      <td>0</td>\n",
       "      <td>0</td>\n",
       "      <td>0</td>\n",
       "      <td>0</td>\n",
       "      <td>0.0</td>\n",
       "      <td>0.0</td>\n",
       "      <td>0.0</td>\n",
       "      <td>0.0</td>\n",
       "      <td>0.0</td>\n",
       "      <td>0.0</td>\n",
       "    </tr>\n",
       "    <tr>\n",
       "      <th>2</th>\n",
       "      <td>100004</td>\n",
       "      <td>0</td>\n",
       "      <td>Revolving loans</td>\n",
       "      <td>M</td>\n",
       "      <td>Y</td>\n",
       "      <td>Y</td>\n",
       "      <td>0</td>\n",
       "      <td>67500.0</td>\n",
       "      <td>135000.0</td>\n",
       "      <td>6750.0</td>\n",
       "      <td>...</td>\n",
       "      <td>0</td>\n",
       "      <td>0</td>\n",
       "      <td>0</td>\n",
       "      <td>0</td>\n",
       "      <td>0.0</td>\n",
       "      <td>0.0</td>\n",
       "      <td>0.0</td>\n",
       "      <td>0.0</td>\n",
       "      <td>0.0</td>\n",
       "      <td>0.0</td>\n",
       "    </tr>\n",
       "    <tr>\n",
       "      <th>3</th>\n",
       "      <td>100006</td>\n",
       "      <td>0</td>\n",
       "      <td>Cash loans</td>\n",
       "      <td>F</td>\n",
       "      <td>N</td>\n",
       "      <td>Y</td>\n",
       "      <td>0</td>\n",
       "      <td>135000.0</td>\n",
       "      <td>312682.5</td>\n",
       "      <td>29686.5</td>\n",
       "      <td>...</td>\n",
       "      <td>0</td>\n",
       "      <td>0</td>\n",
       "      <td>0</td>\n",
       "      <td>0</td>\n",
       "      <td>NaN</td>\n",
       "      <td>NaN</td>\n",
       "      <td>NaN</td>\n",
       "      <td>NaN</td>\n",
       "      <td>NaN</td>\n",
       "      <td>NaN</td>\n",
       "    </tr>\n",
       "    <tr>\n",
       "      <th>4</th>\n",
       "      <td>100007</td>\n",
       "      <td>0</td>\n",
       "      <td>Cash loans</td>\n",
       "      <td>M</td>\n",
       "      <td>N</td>\n",
       "      <td>Y</td>\n",
       "      <td>0</td>\n",
       "      <td>121500.0</td>\n",
       "      <td>513000.0</td>\n",
       "      <td>21865.5</td>\n",
       "      <td>...</td>\n",
       "      <td>0</td>\n",
       "      <td>0</td>\n",
       "      <td>0</td>\n",
       "      <td>0</td>\n",
       "      <td>0.0</td>\n",
       "      <td>0.0</td>\n",
       "      <td>0.0</td>\n",
       "      <td>0.0</td>\n",
       "      <td>0.0</td>\n",
       "      <td>0.0</td>\n",
       "    </tr>\n",
       "    <tr>\n",
       "      <th>...</th>\n",
       "      <td>...</td>\n",
       "      <td>...</td>\n",
       "      <td>...</td>\n",
       "      <td>...</td>\n",
       "      <td>...</td>\n",
       "      <td>...</td>\n",
       "      <td>...</td>\n",
       "      <td>...</td>\n",
       "      <td>...</td>\n",
       "      <td>...</td>\n",
       "      <td>...</td>\n",
       "      <td>...</td>\n",
       "      <td>...</td>\n",
       "      <td>...</td>\n",
       "      <td>...</td>\n",
       "      <td>...</td>\n",
       "      <td>...</td>\n",
       "      <td>...</td>\n",
       "      <td>...</td>\n",
       "      <td>...</td>\n",
       "      <td>...</td>\n",
       "    </tr>\n",
       "    <tr>\n",
       "      <th>307506</th>\n",
       "      <td>456251</td>\n",
       "      <td>0</td>\n",
       "      <td>Cash loans</td>\n",
       "      <td>M</td>\n",
       "      <td>N</td>\n",
       "      <td>N</td>\n",
       "      <td>0</td>\n",
       "      <td>157500.0</td>\n",
       "      <td>254700.0</td>\n",
       "      <td>27558.0</td>\n",
       "      <td>...</td>\n",
       "      <td>0</td>\n",
       "      <td>0</td>\n",
       "      <td>0</td>\n",
       "      <td>0</td>\n",
       "      <td>NaN</td>\n",
       "      <td>NaN</td>\n",
       "      <td>NaN</td>\n",
       "      <td>NaN</td>\n",
       "      <td>NaN</td>\n",
       "      <td>NaN</td>\n",
       "    </tr>\n",
       "    <tr>\n",
       "      <th>307507</th>\n",
       "      <td>456252</td>\n",
       "      <td>0</td>\n",
       "      <td>Cash loans</td>\n",
       "      <td>F</td>\n",
       "      <td>N</td>\n",
       "      <td>Y</td>\n",
       "      <td>0</td>\n",
       "      <td>72000.0</td>\n",
       "      <td>269550.0</td>\n",
       "      <td>12001.5</td>\n",
       "      <td>...</td>\n",
       "      <td>0</td>\n",
       "      <td>0</td>\n",
       "      <td>0</td>\n",
       "      <td>0</td>\n",
       "      <td>NaN</td>\n",
       "      <td>NaN</td>\n",
       "      <td>NaN</td>\n",
       "      <td>NaN</td>\n",
       "      <td>NaN</td>\n",
       "      <td>NaN</td>\n",
       "    </tr>\n",
       "    <tr>\n",
       "      <th>307508</th>\n",
       "      <td>456253</td>\n",
       "      <td>0</td>\n",
       "      <td>Cash loans</td>\n",
       "      <td>F</td>\n",
       "      <td>N</td>\n",
       "      <td>Y</td>\n",
       "      <td>0</td>\n",
       "      <td>153000.0</td>\n",
       "      <td>677664.0</td>\n",
       "      <td>29979.0</td>\n",
       "      <td>...</td>\n",
       "      <td>0</td>\n",
       "      <td>0</td>\n",
       "      <td>0</td>\n",
       "      <td>0</td>\n",
       "      <td>1.0</td>\n",
       "      <td>0.0</td>\n",
       "      <td>0.0</td>\n",
       "      <td>1.0</td>\n",
       "      <td>0.0</td>\n",
       "      <td>1.0</td>\n",
       "    </tr>\n",
       "    <tr>\n",
       "      <th>307509</th>\n",
       "      <td>456254</td>\n",
       "      <td>1</td>\n",
       "      <td>Cash loans</td>\n",
       "      <td>F</td>\n",
       "      <td>N</td>\n",
       "      <td>Y</td>\n",
       "      <td>0</td>\n",
       "      <td>171000.0</td>\n",
       "      <td>370107.0</td>\n",
       "      <td>20205.0</td>\n",
       "      <td>...</td>\n",
       "      <td>0</td>\n",
       "      <td>0</td>\n",
       "      <td>0</td>\n",
       "      <td>0</td>\n",
       "      <td>0.0</td>\n",
       "      <td>0.0</td>\n",
       "      <td>0.0</td>\n",
       "      <td>0.0</td>\n",
       "      <td>0.0</td>\n",
       "      <td>0.0</td>\n",
       "    </tr>\n",
       "    <tr>\n",
       "      <th>307510</th>\n",
       "      <td>456255</td>\n",
       "      <td>0</td>\n",
       "      <td>Cash loans</td>\n",
       "      <td>F</td>\n",
       "      <td>N</td>\n",
       "      <td>N</td>\n",
       "      <td>0</td>\n",
       "      <td>157500.0</td>\n",
       "      <td>675000.0</td>\n",
       "      <td>49117.5</td>\n",
       "      <td>...</td>\n",
       "      <td>0</td>\n",
       "      <td>0</td>\n",
       "      <td>0</td>\n",
       "      <td>0</td>\n",
       "      <td>0.0</td>\n",
       "      <td>0.0</td>\n",
       "      <td>0.0</td>\n",
       "      <td>2.0</td>\n",
       "      <td>0.0</td>\n",
       "      <td>1.0</td>\n",
       "    </tr>\n",
       "  </tbody>\n",
       "</table>\n",
       "<p>307511 rows × 122 columns</p>\n",
       "</div>"
      ],
      "text/plain": [
       "        SK_ID_CURR  TARGET NAME_CONTRACT_TYPE CODE_GENDER FLAG_OWN_CAR  \\\n",
       "0           100002       1         Cash loans           M            N   \n",
       "1           100003       0         Cash loans           F            N   \n",
       "2           100004       0    Revolving loans           M            Y   \n",
       "3           100006       0         Cash loans           F            N   \n",
       "4           100007       0         Cash loans           M            N   \n",
       "...            ...     ...                ...         ...          ...   \n",
       "307506      456251       0         Cash loans           M            N   \n",
       "307507      456252       0         Cash loans           F            N   \n",
       "307508      456253       0         Cash loans           F            N   \n",
       "307509      456254       1         Cash loans           F            N   \n",
       "307510      456255       0         Cash loans           F            N   \n",
       "\n",
       "       FLAG_OWN_REALTY  CNT_CHILDREN  AMT_INCOME_TOTAL  AMT_CREDIT  \\\n",
       "0                    Y             0          202500.0    406597.5   \n",
       "1                    N             0          270000.0   1293502.5   \n",
       "2                    Y             0           67500.0    135000.0   \n",
       "3                    Y             0          135000.0    312682.5   \n",
       "4                    Y             0          121500.0    513000.0   \n",
       "...                ...           ...               ...         ...   \n",
       "307506               N             0          157500.0    254700.0   \n",
       "307507               Y             0           72000.0    269550.0   \n",
       "307508               Y             0          153000.0    677664.0   \n",
       "307509               Y             0          171000.0    370107.0   \n",
       "307510               N             0          157500.0    675000.0   \n",
       "\n",
       "        AMT_ANNUITY  ...  FLAG_DOCUMENT_18 FLAG_DOCUMENT_19 FLAG_DOCUMENT_20  \\\n",
       "0           24700.5  ...                 0                0                0   \n",
       "1           35698.5  ...                 0                0                0   \n",
       "2            6750.0  ...                 0                0                0   \n",
       "3           29686.5  ...                 0                0                0   \n",
       "4           21865.5  ...                 0                0                0   \n",
       "...             ...  ...               ...              ...              ...   \n",
       "307506      27558.0  ...                 0                0                0   \n",
       "307507      12001.5  ...                 0                0                0   \n",
       "307508      29979.0  ...                 0                0                0   \n",
       "307509      20205.0  ...                 0                0                0   \n",
       "307510      49117.5  ...                 0                0                0   \n",
       "\n",
       "       FLAG_DOCUMENT_21 AMT_REQ_CREDIT_BUREAU_HOUR AMT_REQ_CREDIT_BUREAU_DAY  \\\n",
       "0                     0                        0.0                       0.0   \n",
       "1                     0                        0.0                       0.0   \n",
       "2                     0                        0.0                       0.0   \n",
       "3                     0                        NaN                       NaN   \n",
       "4                     0                        0.0                       0.0   \n",
       "...                 ...                        ...                       ...   \n",
       "307506                0                        NaN                       NaN   \n",
       "307507                0                        NaN                       NaN   \n",
       "307508                0                        1.0                       0.0   \n",
       "307509                0                        0.0                       0.0   \n",
       "307510                0                        0.0                       0.0   \n",
       "\n",
       "        AMT_REQ_CREDIT_BUREAU_WEEK  AMT_REQ_CREDIT_BUREAU_MON  \\\n",
       "0                              0.0                        0.0   \n",
       "1                              0.0                        0.0   \n",
       "2                              0.0                        0.0   \n",
       "3                              NaN                        NaN   \n",
       "4                              0.0                        0.0   \n",
       "...                            ...                        ...   \n",
       "307506                         NaN                        NaN   \n",
       "307507                         NaN                        NaN   \n",
       "307508                         0.0                        1.0   \n",
       "307509                         0.0                        0.0   \n",
       "307510                         0.0                        2.0   \n",
       "\n",
       "        AMT_REQ_CREDIT_BUREAU_QRT  AMT_REQ_CREDIT_BUREAU_YEAR  \n",
       "0                             0.0                         1.0  \n",
       "1                             0.0                         0.0  \n",
       "2                             0.0                         0.0  \n",
       "3                             NaN                         NaN  \n",
       "4                             0.0                         0.0  \n",
       "...                           ...                         ...  \n",
       "307506                        NaN                         NaN  \n",
       "307507                        NaN                         NaN  \n",
       "307508                        0.0                         1.0  \n",
       "307509                        0.0                         0.0  \n",
       "307510                        0.0                         1.0  \n",
       "\n",
       "[307511 rows x 122 columns]"
      ]
     },
     "execution_count": 3,
     "metadata": {},
     "output_type": "execute_result"
    }
   ],
   "source": [
    "application_train"
   ]
  },
  {
   "cell_type": "markdown",
   "metadata": {},
   "source": [
    "Let's start looking for missing entries and thus choosing how to treat them based on their distribution."
   ]
  },
  {
   "cell_type": "code",
   "execution_count": 4,
   "metadata": {},
   "outputs": [
    {
     "name": "stdout",
     "output_type": "stream",
     "text": [
      "There's a total of 9152465 missing entries on the application train table.\n",
      "There's a total of 1404419 missing entries on the application test table.\n"
     ]
    }
   ],
   "source": [
    "train_null = application_train.isnull()\n",
    "test_null = application_test.isnull()\n",
    "\n",
    "print(\"There's a total of \" + str(train_null.sum().sum()) + \" missing entries on the application train table.\")\n",
    "print(\"There's a total of \" + str(test_null.sum().sum()) + \" missing entries on the application test table.\")\n",
    "\n",
    "del(train_null)\n",
    "del(test_null)"
   ]
  },
  {
   "cell_type": "markdown",
   "metadata": {},
   "source": [
    "Since there are a lot of missing values both in the train table as well as in the test table we can't just get rid of rows with NA entries. Instead we must find a way to deal with them (maybe using imputation). We'll come back to it later. For now let's keep going with exploratory data analysis.\n",
    "\n",
    "We now want to check the types of our features."
   ]
  },
  {
   "cell_type": "code",
   "execution_count": 5,
   "metadata": {},
   "outputs": [
    {
     "data": {
      "text/plain": [
       "float64    65\n",
       "int64      41\n",
       "object     16\n",
       "dtype: int64"
      ]
     },
     "execution_count": 5,
     "metadata": {},
     "output_type": "execute_result"
    }
   ],
   "source": [
    "application_train.dtypes.value_counts()"
   ]
  },
  {
   "cell_type": "markdown",
   "metadata": {},
   "source": [
    "We see that there are $65$ continous features, $41$ integers features (remember that two of them are, respectively, the ID of the loan and the target outcome) and $16$ categorical features. Let's start by getting some informations on our continous features.\n",
    "\n",
    "We start noting that a lot of features refer to informations about building where the clients live. Since there are $42$ of them and we would like to reduce the dimensionality of the problem (in sight of better performance and predictive power later on), let's take a look at those featuresm and see if we can get rid of some of them."
   ]
  },
  {
   "cell_type": "code",
   "execution_count": 6,
   "metadata": {},
   "outputs": [
    {
     "data": {
      "text/plain": [
       "array(['APARTMENTS_AVG', 'BASEMENTAREA_AVG',\n",
       "       'YEARS_BEGINEXPLUATATION_AVG', 'YEARS_BUILD_AVG', 'COMMONAREA_AVG',\n",
       "       'ELEVATORS_AVG', 'ENTRANCES_AVG', 'FLOORSMAX_AVG', 'FLOORSMIN_AVG',\n",
       "       'LANDAREA_AVG', 'LIVINGAPARTMENTS_AVG', 'LIVINGAREA_AVG',\n",
       "       'NONLIVINGAPARTMENTS_AVG', 'NONLIVINGAREA_AVG', 'APARTMENTS_MODE',\n",
       "       'BASEMENTAREA_MODE', 'YEARS_BEGINEXPLUATATION_MODE',\n",
       "       'YEARS_BUILD_MODE', 'COMMONAREA_MODE', 'ELEVATORS_MODE',\n",
       "       'ENTRANCES_MODE', 'FLOORSMAX_MODE', 'FLOORSMIN_MODE',\n",
       "       'LANDAREA_MODE', 'LIVINGAPARTMENTS_MODE', 'LIVINGAREA_MODE',\n",
       "       'NONLIVINGAPARTMENTS_MODE', 'NONLIVINGAREA_MODE',\n",
       "       'APARTMENTS_MEDI', 'BASEMENTAREA_MEDI',\n",
       "       'YEARS_BEGINEXPLUATATION_MEDI', 'YEARS_BUILD_MEDI',\n",
       "       'COMMONAREA_MEDI', 'ELEVATORS_MEDI', 'ENTRANCES_MEDI',\n",
       "       'FLOORSMAX_MEDI', 'FLOORSMIN_MEDI', 'LANDAREA_MEDI',\n",
       "       'LIVINGAPARTMENTS_MEDI', 'LIVINGAREA_MEDI',\n",
       "       'NONLIVINGAPARTMENTS_MEDI', 'NONLIVINGAREA_MEDI', 'TOTALAREA_MODE'],\n",
       "      dtype=object)"
      ]
     },
     "execution_count": 6,
     "metadata": {},
     "output_type": "execute_result"
    }
   ],
   "source": [
    "building_features = application_train.columns[44 : 86]\n",
    "building_features = np.append(building_features, \"TOTALAREA_MODE\")\n",
    "building_features"
   ]
  },
  {
   "cell_type": "code",
   "execution_count": 7,
   "metadata": {},
   "outputs": [],
   "source": [
    "build_features_data = application_train[building_features]"
   ]
  },
  {
   "cell_type": "code",
   "execution_count": 8,
   "metadata": {
    "scrolled": false
   },
   "outputs": [
    {
     "data": {
      "text/html": [
       "<div>\n",
       "<style scoped>\n",
       "    .dataframe tbody tr th:only-of-type {\n",
       "        vertical-align: middle;\n",
       "    }\n",
       "\n",
       "    .dataframe tbody tr th {\n",
       "        vertical-align: top;\n",
       "    }\n",
       "\n",
       "    .dataframe thead th {\n",
       "        text-align: right;\n",
       "    }\n",
       "</style>\n",
       "<table border=\"1\" class=\"dataframe\">\n",
       "  <thead>\n",
       "    <tr style=\"text-align: right;\">\n",
       "      <th></th>\n",
       "      <th>APARTMENTS_AVG</th>\n",
       "      <th>BASEMENTAREA_AVG</th>\n",
       "      <th>YEARS_BEGINEXPLUATATION_AVG</th>\n",
       "      <th>YEARS_BUILD_AVG</th>\n",
       "      <th>COMMONAREA_AVG</th>\n",
       "      <th>ELEVATORS_AVG</th>\n",
       "      <th>ENTRANCES_AVG</th>\n",
       "      <th>FLOORSMAX_AVG</th>\n",
       "      <th>FLOORSMIN_AVG</th>\n",
       "      <th>LANDAREA_AVG</th>\n",
       "      <th>...</th>\n",
       "      <th>ELEVATORS_MEDI</th>\n",
       "      <th>ENTRANCES_MEDI</th>\n",
       "      <th>FLOORSMAX_MEDI</th>\n",
       "      <th>FLOORSMIN_MEDI</th>\n",
       "      <th>LANDAREA_MEDI</th>\n",
       "      <th>LIVINGAPARTMENTS_MEDI</th>\n",
       "      <th>LIVINGAREA_MEDI</th>\n",
       "      <th>NONLIVINGAPARTMENTS_MEDI</th>\n",
       "      <th>NONLIVINGAREA_MEDI</th>\n",
       "      <th>TOTALAREA_MODE</th>\n",
       "    </tr>\n",
       "  </thead>\n",
       "  <tbody>\n",
       "    <tr>\n",
       "      <th>0</th>\n",
       "      <td>0.0247</td>\n",
       "      <td>0.0369</td>\n",
       "      <td>0.9722</td>\n",
       "      <td>0.6192</td>\n",
       "      <td>0.0143</td>\n",
       "      <td>0.00</td>\n",
       "      <td>0.0690</td>\n",
       "      <td>0.0833</td>\n",
       "      <td>0.1250</td>\n",
       "      <td>0.0369</td>\n",
       "      <td>...</td>\n",
       "      <td>0.00</td>\n",
       "      <td>0.0690</td>\n",
       "      <td>0.0833</td>\n",
       "      <td>0.1250</td>\n",
       "      <td>0.0375</td>\n",
       "      <td>0.0205</td>\n",
       "      <td>0.0193</td>\n",
       "      <td>0.0000</td>\n",
       "      <td>0.0000</td>\n",
       "      <td>0.0149</td>\n",
       "    </tr>\n",
       "    <tr>\n",
       "      <th>1</th>\n",
       "      <td>0.0959</td>\n",
       "      <td>0.0529</td>\n",
       "      <td>0.9851</td>\n",
       "      <td>0.7960</td>\n",
       "      <td>0.0605</td>\n",
       "      <td>0.08</td>\n",
       "      <td>0.0345</td>\n",
       "      <td>0.2917</td>\n",
       "      <td>0.3333</td>\n",
       "      <td>0.0130</td>\n",
       "      <td>...</td>\n",
       "      <td>0.08</td>\n",
       "      <td>0.0345</td>\n",
       "      <td>0.2917</td>\n",
       "      <td>0.3333</td>\n",
       "      <td>0.0132</td>\n",
       "      <td>0.0787</td>\n",
       "      <td>0.0558</td>\n",
       "      <td>0.0039</td>\n",
       "      <td>0.0100</td>\n",
       "      <td>0.0714</td>\n",
       "    </tr>\n",
       "    <tr>\n",
       "      <th>2</th>\n",
       "      <td>NaN</td>\n",
       "      <td>NaN</td>\n",
       "      <td>NaN</td>\n",
       "      <td>NaN</td>\n",
       "      <td>NaN</td>\n",
       "      <td>NaN</td>\n",
       "      <td>NaN</td>\n",
       "      <td>NaN</td>\n",
       "      <td>NaN</td>\n",
       "      <td>NaN</td>\n",
       "      <td>...</td>\n",
       "      <td>NaN</td>\n",
       "      <td>NaN</td>\n",
       "      <td>NaN</td>\n",
       "      <td>NaN</td>\n",
       "      <td>NaN</td>\n",
       "      <td>NaN</td>\n",
       "      <td>NaN</td>\n",
       "      <td>NaN</td>\n",
       "      <td>NaN</td>\n",
       "      <td>NaN</td>\n",
       "    </tr>\n",
       "    <tr>\n",
       "      <th>3</th>\n",
       "      <td>NaN</td>\n",
       "      <td>NaN</td>\n",
       "      <td>NaN</td>\n",
       "      <td>NaN</td>\n",
       "      <td>NaN</td>\n",
       "      <td>NaN</td>\n",
       "      <td>NaN</td>\n",
       "      <td>NaN</td>\n",
       "      <td>NaN</td>\n",
       "      <td>NaN</td>\n",
       "      <td>...</td>\n",
       "      <td>NaN</td>\n",
       "      <td>NaN</td>\n",
       "      <td>NaN</td>\n",
       "      <td>NaN</td>\n",
       "      <td>NaN</td>\n",
       "      <td>NaN</td>\n",
       "      <td>NaN</td>\n",
       "      <td>NaN</td>\n",
       "      <td>NaN</td>\n",
       "      <td>NaN</td>\n",
       "    </tr>\n",
       "    <tr>\n",
       "      <th>4</th>\n",
       "      <td>NaN</td>\n",
       "      <td>NaN</td>\n",
       "      <td>NaN</td>\n",
       "      <td>NaN</td>\n",
       "      <td>NaN</td>\n",
       "      <td>NaN</td>\n",
       "      <td>NaN</td>\n",
       "      <td>NaN</td>\n",
       "      <td>NaN</td>\n",
       "      <td>NaN</td>\n",
       "      <td>...</td>\n",
       "      <td>NaN</td>\n",
       "      <td>NaN</td>\n",
       "      <td>NaN</td>\n",
       "      <td>NaN</td>\n",
       "      <td>NaN</td>\n",
       "      <td>NaN</td>\n",
       "      <td>NaN</td>\n",
       "      <td>NaN</td>\n",
       "      <td>NaN</td>\n",
       "      <td>NaN</td>\n",
       "    </tr>\n",
       "    <tr>\n",
       "      <th>...</th>\n",
       "      <td>...</td>\n",
       "      <td>...</td>\n",
       "      <td>...</td>\n",
       "      <td>...</td>\n",
       "      <td>...</td>\n",
       "      <td>...</td>\n",
       "      <td>...</td>\n",
       "      <td>...</td>\n",
       "      <td>...</td>\n",
       "      <td>...</td>\n",
       "      <td>...</td>\n",
       "      <td>...</td>\n",
       "      <td>...</td>\n",
       "      <td>...</td>\n",
       "      <td>...</td>\n",
       "      <td>...</td>\n",
       "      <td>...</td>\n",
       "      <td>...</td>\n",
       "      <td>...</td>\n",
       "      <td>...</td>\n",
       "      <td>...</td>\n",
       "    </tr>\n",
       "    <tr>\n",
       "      <th>307506</th>\n",
       "      <td>0.2021</td>\n",
       "      <td>0.0887</td>\n",
       "      <td>0.9876</td>\n",
       "      <td>0.8300</td>\n",
       "      <td>0.0202</td>\n",
       "      <td>0.22</td>\n",
       "      <td>0.1034</td>\n",
       "      <td>0.6042</td>\n",
       "      <td>0.2708</td>\n",
       "      <td>0.0594</td>\n",
       "      <td>...</td>\n",
       "      <td>0.22</td>\n",
       "      <td>0.1034</td>\n",
       "      <td>0.6042</td>\n",
       "      <td>0.2708</td>\n",
       "      <td>0.0605</td>\n",
       "      <td>0.1509</td>\n",
       "      <td>0.2001</td>\n",
       "      <td>0.0757</td>\n",
       "      <td>0.1118</td>\n",
       "      <td>0.2898</td>\n",
       "    </tr>\n",
       "    <tr>\n",
       "      <th>307507</th>\n",
       "      <td>0.0247</td>\n",
       "      <td>0.0435</td>\n",
       "      <td>0.9727</td>\n",
       "      <td>0.6260</td>\n",
       "      <td>0.0022</td>\n",
       "      <td>0.00</td>\n",
       "      <td>0.1034</td>\n",
       "      <td>0.0833</td>\n",
       "      <td>0.1250</td>\n",
       "      <td>0.0579</td>\n",
       "      <td>...</td>\n",
       "      <td>0.00</td>\n",
       "      <td>0.1034</td>\n",
       "      <td>0.0833</td>\n",
       "      <td>0.1250</td>\n",
       "      <td>0.0589</td>\n",
       "      <td>0.0205</td>\n",
       "      <td>0.0261</td>\n",
       "      <td>0.0000</td>\n",
       "      <td>0.0000</td>\n",
       "      <td>0.0214</td>\n",
       "    </tr>\n",
       "    <tr>\n",
       "      <th>307508</th>\n",
       "      <td>0.1031</td>\n",
       "      <td>0.0862</td>\n",
       "      <td>0.9816</td>\n",
       "      <td>0.7484</td>\n",
       "      <td>0.0123</td>\n",
       "      <td>0.00</td>\n",
       "      <td>0.2069</td>\n",
       "      <td>0.1667</td>\n",
       "      <td>0.2083</td>\n",
       "      <td>NaN</td>\n",
       "      <td>...</td>\n",
       "      <td>0.00</td>\n",
       "      <td>0.2069</td>\n",
       "      <td>0.1667</td>\n",
       "      <td>0.2083</td>\n",
       "      <td>NaN</td>\n",
       "      <td>0.0855</td>\n",
       "      <td>0.9445</td>\n",
       "      <td>0.0000</td>\n",
       "      <td>0.0000</td>\n",
       "      <td>0.7970</td>\n",
       "    </tr>\n",
       "    <tr>\n",
       "      <th>307509</th>\n",
       "      <td>0.0124</td>\n",
       "      <td>NaN</td>\n",
       "      <td>0.9771</td>\n",
       "      <td>NaN</td>\n",
       "      <td>NaN</td>\n",
       "      <td>NaN</td>\n",
       "      <td>0.0690</td>\n",
       "      <td>0.0417</td>\n",
       "      <td>NaN</td>\n",
       "      <td>NaN</td>\n",
       "      <td>...</td>\n",
       "      <td>NaN</td>\n",
       "      <td>0.0690</td>\n",
       "      <td>0.0417</td>\n",
       "      <td>NaN</td>\n",
       "      <td>NaN</td>\n",
       "      <td>NaN</td>\n",
       "      <td>0.0062</td>\n",
       "      <td>NaN</td>\n",
       "      <td>NaN</td>\n",
       "      <td>0.0086</td>\n",
       "    </tr>\n",
       "    <tr>\n",
       "      <th>307510</th>\n",
       "      <td>0.0742</td>\n",
       "      <td>0.0526</td>\n",
       "      <td>0.9881</td>\n",
       "      <td>NaN</td>\n",
       "      <td>0.0176</td>\n",
       "      <td>0.08</td>\n",
       "      <td>0.0690</td>\n",
       "      <td>0.3750</td>\n",
       "      <td>NaN</td>\n",
       "      <td>NaN</td>\n",
       "      <td>...</td>\n",
       "      <td>0.08</td>\n",
       "      <td>0.0690</td>\n",
       "      <td>0.3750</td>\n",
       "      <td>NaN</td>\n",
       "      <td>NaN</td>\n",
       "      <td>NaN</td>\n",
       "      <td>0.0805</td>\n",
       "      <td>NaN</td>\n",
       "      <td>0.0000</td>\n",
       "      <td>0.0718</td>\n",
       "    </tr>\n",
       "  </tbody>\n",
       "</table>\n",
       "<p>307511 rows × 43 columns</p>\n",
       "</div>"
      ],
      "text/plain": [
       "        APARTMENTS_AVG  BASEMENTAREA_AVG  YEARS_BEGINEXPLUATATION_AVG  \\\n",
       "0               0.0247            0.0369                       0.9722   \n",
       "1               0.0959            0.0529                       0.9851   \n",
       "2                  NaN               NaN                          NaN   \n",
       "3                  NaN               NaN                          NaN   \n",
       "4                  NaN               NaN                          NaN   \n",
       "...                ...               ...                          ...   \n",
       "307506          0.2021            0.0887                       0.9876   \n",
       "307507          0.0247            0.0435                       0.9727   \n",
       "307508          0.1031            0.0862                       0.9816   \n",
       "307509          0.0124               NaN                       0.9771   \n",
       "307510          0.0742            0.0526                       0.9881   \n",
       "\n",
       "        YEARS_BUILD_AVG  COMMONAREA_AVG  ELEVATORS_AVG  ENTRANCES_AVG  \\\n",
       "0                0.6192          0.0143           0.00         0.0690   \n",
       "1                0.7960          0.0605           0.08         0.0345   \n",
       "2                   NaN             NaN            NaN            NaN   \n",
       "3                   NaN             NaN            NaN            NaN   \n",
       "4                   NaN             NaN            NaN            NaN   \n",
       "...                 ...             ...            ...            ...   \n",
       "307506           0.8300          0.0202           0.22         0.1034   \n",
       "307507           0.6260          0.0022           0.00         0.1034   \n",
       "307508           0.7484          0.0123           0.00         0.2069   \n",
       "307509              NaN             NaN            NaN         0.0690   \n",
       "307510              NaN          0.0176           0.08         0.0690   \n",
       "\n",
       "        FLOORSMAX_AVG  FLOORSMIN_AVG  LANDAREA_AVG  ...  ELEVATORS_MEDI  \\\n",
       "0              0.0833         0.1250        0.0369  ...            0.00   \n",
       "1              0.2917         0.3333        0.0130  ...            0.08   \n",
       "2                 NaN            NaN           NaN  ...             NaN   \n",
       "3                 NaN            NaN           NaN  ...             NaN   \n",
       "4                 NaN            NaN           NaN  ...             NaN   \n",
       "...               ...            ...           ...  ...             ...   \n",
       "307506         0.6042         0.2708        0.0594  ...            0.22   \n",
       "307507         0.0833         0.1250        0.0579  ...            0.00   \n",
       "307508         0.1667         0.2083           NaN  ...            0.00   \n",
       "307509         0.0417            NaN           NaN  ...             NaN   \n",
       "307510         0.3750            NaN           NaN  ...            0.08   \n",
       "\n",
       "        ENTRANCES_MEDI  FLOORSMAX_MEDI  FLOORSMIN_MEDI  LANDAREA_MEDI  \\\n",
       "0               0.0690          0.0833          0.1250         0.0375   \n",
       "1               0.0345          0.2917          0.3333         0.0132   \n",
       "2                  NaN             NaN             NaN            NaN   \n",
       "3                  NaN             NaN             NaN            NaN   \n",
       "4                  NaN             NaN             NaN            NaN   \n",
       "...                ...             ...             ...            ...   \n",
       "307506          0.1034          0.6042          0.2708         0.0605   \n",
       "307507          0.1034          0.0833          0.1250         0.0589   \n",
       "307508          0.2069          0.1667          0.2083            NaN   \n",
       "307509          0.0690          0.0417             NaN            NaN   \n",
       "307510          0.0690          0.3750             NaN            NaN   \n",
       "\n",
       "        LIVINGAPARTMENTS_MEDI  LIVINGAREA_MEDI  NONLIVINGAPARTMENTS_MEDI  \\\n",
       "0                      0.0205           0.0193                    0.0000   \n",
       "1                      0.0787           0.0558                    0.0039   \n",
       "2                         NaN              NaN                       NaN   \n",
       "3                         NaN              NaN                       NaN   \n",
       "4                         NaN              NaN                       NaN   \n",
       "...                       ...              ...                       ...   \n",
       "307506                 0.1509           0.2001                    0.0757   \n",
       "307507                 0.0205           0.0261                    0.0000   \n",
       "307508                 0.0855           0.9445                    0.0000   \n",
       "307509                    NaN           0.0062                       NaN   \n",
       "307510                    NaN           0.0805                       NaN   \n",
       "\n",
       "        NONLIVINGAREA_MEDI  TOTALAREA_MODE  \n",
       "0                   0.0000          0.0149  \n",
       "1                   0.0100          0.0714  \n",
       "2                      NaN             NaN  \n",
       "3                      NaN             NaN  \n",
       "4                      NaN             NaN  \n",
       "...                    ...             ...  \n",
       "307506              0.1118          0.2898  \n",
       "307507              0.0000          0.0214  \n",
       "307508              0.0000          0.7970  \n",
       "307509                 NaN          0.0086  \n",
       "307510              0.0000          0.0718  \n",
       "\n",
       "[307511 rows x 43 columns]"
      ]
     },
     "execution_count": 8,
     "metadata": {},
     "output_type": "execute_result"
    }
   ],
   "source": [
    "build_features_data"
   ]
  },
  {
   "cell_type": "markdown",
   "metadata": {},
   "source": [
    "The first thing we note is that for every building information we have three values: mean, mode and median. We are interested in seeing if these values are highly correlated (as we suspect)."
   ]
  },
  {
   "cell_type": "code",
   "execution_count": 9,
   "metadata": {},
   "outputs": [
    {
     "data": {
      "text/plain": [
       "APARTMENTS_AVG               APARTMENTS_MODE                 0.973259\n",
       "BASEMENTAREA_AVG             BASEMENTAREA_MODE               0.973496\n",
       "YEARS_BEGINEXPLUATATION_AVG  YEARS_BEGINEXPLUATATION_MODE    0.971893\n",
       "YEARS_BUILD_AVG              YEARS_BUILD_MODE                0.989444\n",
       "COMMONAREA_AVG               COMMONAREA_MODE                 0.977147\n",
       "ELEVATORS_AVG                ELEVATORS_MODE                  0.978837\n",
       "ENTRANCES_AVG                ENTRANCES_MODE                  0.977743\n",
       "FLOORSMAX_AVG                FLOORSMAX_MODE                  0.985689\n",
       "FLOORSMIN_AVG                FLOORSMIN_MODE                  0.985875\n",
       "LANDAREA_AVG                 LANDAREA_MODE                   0.973696\n",
       "LIVINGAPARTMENTS_AVG         LIVINGAPARTMENTS_MODE           0.970117\n",
       "LIVINGAREA_AVG               LIVINGAREA_MODE                 0.972050\n",
       "NONLIVINGAPARTMENTS_AVG      NONLIVINGAPARTMENTS_MODE        0.969370\n",
       "dtype: float64"
      ]
     },
     "execution_count": 9,
     "metadata": {},
     "output_type": "execute_result"
    }
   ],
   "source": [
    "build_data_correlation = build_features_data.corr()\n",
    "\n",
    "pd.Series(np.diag(build_data_correlation.iloc[range(0, 13), range(14, 27)]), index = [build_data_correlation.index[:13], build_data_correlation.columns[14:27]])"
   ]
  },
  {
   "cell_type": "code",
   "execution_count": 10,
   "metadata": {
    "scrolled": true
   },
   "outputs": [
    {
     "data": {
      "text/plain": [
       "APARTMENTS_AVG               APARTMENTS_MEDI                 0.995081\n",
       "BASEMENTAREA_AVG             BASEMENTAREA_MEDI               0.994317\n",
       "YEARS_BEGINEXPLUATATION_AVG  YEARS_BEGINEXPLUATATION_MEDI    0.993825\n",
       "YEARS_BUILD_AVG              YEARS_BUILD_MEDI                0.998495\n",
       "COMMONAREA_AVG               COMMONAREA_MEDI                 0.995978\n",
       "ELEVATORS_AVG                ELEVATORS_MEDI                  0.996099\n",
       "ENTRANCES_AVG                ENTRANCES_MEDI                  0.996886\n",
       "FLOORSMAX_AVG                FLOORSMAX_MEDI                  0.997034\n",
       "FLOORSMIN_AVG                FLOORSMIN_MEDI                  0.997241\n",
       "LANDAREA_AVG                 LANDAREA_MEDI                   0.991610\n",
       "LIVINGAPARTMENTS_AVG         LIVINGAPARTMENTS_MEDI           0.993825\n",
       "LIVINGAREA_AVG               LIVINGAREA_MEDI                 0.995596\n",
       "NONLIVINGAPARTMENTS_AVG      NONLIVINGAPARTMENTS_MEDI        0.990768\n",
       "dtype: float64"
      ]
     },
     "execution_count": 10,
     "metadata": {},
     "output_type": "execute_result"
    }
   ],
   "source": [
    "pd.Series(np.diag(build_data_correlation.iloc[range(0, 13), range(28, 41)]), index = [build_data_correlation.index[:13], build_data_correlation.columns[28:41]])"
   ]
  },
  {
   "cell_type": "markdown",
   "metadata": {},
   "source": [
    "We actually see a lot of correlation, for every building information, between mean, mode and median. This suggests us we can actually use just one of them and get rid of the others.\n",
    "\n",
    "Thus we're going to restrict our building informatin features to just the means."
   ]
  },
  {
   "cell_type": "code",
   "execution_count": 11,
   "metadata": {},
   "outputs": [
    {
     "data": {
      "text/plain": [
       "array(['APARTMENTS_AVG', 'BASEMENTAREA_AVG',\n",
       "       'YEARS_BEGINEXPLUATATION_AVG', 'YEARS_BUILD_AVG', 'COMMONAREA_AVG',\n",
       "       'ELEVATORS_AVG', 'ENTRANCES_AVG', 'FLOORSMAX_AVG', 'FLOORSMIN_AVG',\n",
       "       'LANDAREA_AVG', 'LIVINGAPARTMENTS_AVG', 'LIVINGAREA_AVG',\n",
       "       'NONLIVINGAPARTMENTS_AVG', 'TOTALAREA_MODE'], dtype=object)"
      ]
     },
     "execution_count": 11,
     "metadata": {},
     "output_type": "execute_result"
    }
   ],
   "source": [
    "building_features = build_features_data.columns[:13]\n",
    "building_features = np.append(building_features, \"TOTALAREA_MODE\")\n",
    "building_features"
   ]
  },
  {
   "cell_type": "code",
   "execution_count": 12,
   "metadata": {},
   "outputs": [],
   "source": [
    "build_features_data = build_features_data[building_features]"
   ]
  },
  {
   "cell_type": "code",
   "execution_count": 13,
   "metadata": {
    "scrolled": false
   },
   "outputs": [
    {
     "data": {
      "text/html": [
       "<div>\n",
       "<style scoped>\n",
       "    .dataframe tbody tr th:only-of-type {\n",
       "        vertical-align: middle;\n",
       "    }\n",
       "\n",
       "    .dataframe tbody tr th {\n",
       "        vertical-align: top;\n",
       "    }\n",
       "\n",
       "    .dataframe thead th {\n",
       "        text-align: right;\n",
       "    }\n",
       "</style>\n",
       "<table border=\"1\" class=\"dataframe\">\n",
       "  <thead>\n",
       "    <tr style=\"text-align: right;\">\n",
       "      <th></th>\n",
       "      <th>APARTMENTS_AVG</th>\n",
       "      <th>BASEMENTAREA_AVG</th>\n",
       "      <th>YEARS_BEGINEXPLUATATION_AVG</th>\n",
       "      <th>YEARS_BUILD_AVG</th>\n",
       "      <th>COMMONAREA_AVG</th>\n",
       "      <th>ELEVATORS_AVG</th>\n",
       "      <th>ENTRANCES_AVG</th>\n",
       "      <th>FLOORSMAX_AVG</th>\n",
       "      <th>FLOORSMIN_AVG</th>\n",
       "      <th>LANDAREA_AVG</th>\n",
       "      <th>LIVINGAPARTMENTS_AVG</th>\n",
       "      <th>LIVINGAREA_AVG</th>\n",
       "      <th>NONLIVINGAPARTMENTS_AVG</th>\n",
       "      <th>TOTALAREA_MODE</th>\n",
       "    </tr>\n",
       "  </thead>\n",
       "  <tbody>\n",
       "    <tr>\n",
       "      <th>0</th>\n",
       "      <td>0.0247</td>\n",
       "      <td>0.0369</td>\n",
       "      <td>0.9722</td>\n",
       "      <td>0.6192</td>\n",
       "      <td>0.0143</td>\n",
       "      <td>0.00</td>\n",
       "      <td>0.0690</td>\n",
       "      <td>0.0833</td>\n",
       "      <td>0.1250</td>\n",
       "      <td>0.0369</td>\n",
       "      <td>0.0202</td>\n",
       "      <td>0.0190</td>\n",
       "      <td>0.0000</td>\n",
       "      <td>0.0149</td>\n",
       "    </tr>\n",
       "    <tr>\n",
       "      <th>1</th>\n",
       "      <td>0.0959</td>\n",
       "      <td>0.0529</td>\n",
       "      <td>0.9851</td>\n",
       "      <td>0.7960</td>\n",
       "      <td>0.0605</td>\n",
       "      <td>0.08</td>\n",
       "      <td>0.0345</td>\n",
       "      <td>0.2917</td>\n",
       "      <td>0.3333</td>\n",
       "      <td>0.0130</td>\n",
       "      <td>0.0773</td>\n",
       "      <td>0.0549</td>\n",
       "      <td>0.0039</td>\n",
       "      <td>0.0714</td>\n",
       "    </tr>\n",
       "    <tr>\n",
       "      <th>2</th>\n",
       "      <td>NaN</td>\n",
       "      <td>NaN</td>\n",
       "      <td>NaN</td>\n",
       "      <td>NaN</td>\n",
       "      <td>NaN</td>\n",
       "      <td>NaN</td>\n",
       "      <td>NaN</td>\n",
       "      <td>NaN</td>\n",
       "      <td>NaN</td>\n",
       "      <td>NaN</td>\n",
       "      <td>NaN</td>\n",
       "      <td>NaN</td>\n",
       "      <td>NaN</td>\n",
       "      <td>NaN</td>\n",
       "    </tr>\n",
       "    <tr>\n",
       "      <th>3</th>\n",
       "      <td>NaN</td>\n",
       "      <td>NaN</td>\n",
       "      <td>NaN</td>\n",
       "      <td>NaN</td>\n",
       "      <td>NaN</td>\n",
       "      <td>NaN</td>\n",
       "      <td>NaN</td>\n",
       "      <td>NaN</td>\n",
       "      <td>NaN</td>\n",
       "      <td>NaN</td>\n",
       "      <td>NaN</td>\n",
       "      <td>NaN</td>\n",
       "      <td>NaN</td>\n",
       "      <td>NaN</td>\n",
       "    </tr>\n",
       "    <tr>\n",
       "      <th>4</th>\n",
       "      <td>NaN</td>\n",
       "      <td>NaN</td>\n",
       "      <td>NaN</td>\n",
       "      <td>NaN</td>\n",
       "      <td>NaN</td>\n",
       "      <td>NaN</td>\n",
       "      <td>NaN</td>\n",
       "      <td>NaN</td>\n",
       "      <td>NaN</td>\n",
       "      <td>NaN</td>\n",
       "      <td>NaN</td>\n",
       "      <td>NaN</td>\n",
       "      <td>NaN</td>\n",
       "      <td>NaN</td>\n",
       "    </tr>\n",
       "    <tr>\n",
       "      <th>...</th>\n",
       "      <td>...</td>\n",
       "      <td>...</td>\n",
       "      <td>...</td>\n",
       "      <td>...</td>\n",
       "      <td>...</td>\n",
       "      <td>...</td>\n",
       "      <td>...</td>\n",
       "      <td>...</td>\n",
       "      <td>...</td>\n",
       "      <td>...</td>\n",
       "      <td>...</td>\n",
       "      <td>...</td>\n",
       "      <td>...</td>\n",
       "      <td>...</td>\n",
       "    </tr>\n",
       "    <tr>\n",
       "      <th>307506</th>\n",
       "      <td>0.2021</td>\n",
       "      <td>0.0887</td>\n",
       "      <td>0.9876</td>\n",
       "      <td>0.8300</td>\n",
       "      <td>0.0202</td>\n",
       "      <td>0.22</td>\n",
       "      <td>0.1034</td>\n",
       "      <td>0.6042</td>\n",
       "      <td>0.2708</td>\n",
       "      <td>0.0594</td>\n",
       "      <td>0.1484</td>\n",
       "      <td>0.1965</td>\n",
       "      <td>0.0753</td>\n",
       "      <td>0.2898</td>\n",
       "    </tr>\n",
       "    <tr>\n",
       "      <th>307507</th>\n",
       "      <td>0.0247</td>\n",
       "      <td>0.0435</td>\n",
       "      <td>0.9727</td>\n",
       "      <td>0.6260</td>\n",
       "      <td>0.0022</td>\n",
       "      <td>0.00</td>\n",
       "      <td>0.1034</td>\n",
       "      <td>0.0833</td>\n",
       "      <td>0.1250</td>\n",
       "      <td>0.0579</td>\n",
       "      <td>0.0202</td>\n",
       "      <td>0.0257</td>\n",
       "      <td>0.0000</td>\n",
       "      <td>0.0214</td>\n",
       "    </tr>\n",
       "    <tr>\n",
       "      <th>307508</th>\n",
       "      <td>0.1031</td>\n",
       "      <td>0.0862</td>\n",
       "      <td>0.9816</td>\n",
       "      <td>0.7484</td>\n",
       "      <td>0.0123</td>\n",
       "      <td>0.00</td>\n",
       "      <td>0.2069</td>\n",
       "      <td>0.1667</td>\n",
       "      <td>0.2083</td>\n",
       "      <td>NaN</td>\n",
       "      <td>0.0841</td>\n",
       "      <td>0.9279</td>\n",
       "      <td>0.0000</td>\n",
       "      <td>0.7970</td>\n",
       "    </tr>\n",
       "    <tr>\n",
       "      <th>307509</th>\n",
       "      <td>0.0124</td>\n",
       "      <td>NaN</td>\n",
       "      <td>0.9771</td>\n",
       "      <td>NaN</td>\n",
       "      <td>NaN</td>\n",
       "      <td>NaN</td>\n",
       "      <td>0.0690</td>\n",
       "      <td>0.0417</td>\n",
       "      <td>NaN</td>\n",
       "      <td>NaN</td>\n",
       "      <td>NaN</td>\n",
       "      <td>0.0061</td>\n",
       "      <td>NaN</td>\n",
       "      <td>0.0086</td>\n",
       "    </tr>\n",
       "    <tr>\n",
       "      <th>307510</th>\n",
       "      <td>0.0742</td>\n",
       "      <td>0.0526</td>\n",
       "      <td>0.9881</td>\n",
       "      <td>NaN</td>\n",
       "      <td>0.0176</td>\n",
       "      <td>0.08</td>\n",
       "      <td>0.0690</td>\n",
       "      <td>0.3750</td>\n",
       "      <td>NaN</td>\n",
       "      <td>NaN</td>\n",
       "      <td>NaN</td>\n",
       "      <td>0.0791</td>\n",
       "      <td>NaN</td>\n",
       "      <td>0.0718</td>\n",
       "    </tr>\n",
       "  </tbody>\n",
       "</table>\n",
       "<p>307511 rows × 14 columns</p>\n",
       "</div>"
      ],
      "text/plain": [
       "        APARTMENTS_AVG  BASEMENTAREA_AVG  YEARS_BEGINEXPLUATATION_AVG  \\\n",
       "0               0.0247            0.0369                       0.9722   \n",
       "1               0.0959            0.0529                       0.9851   \n",
       "2                  NaN               NaN                          NaN   \n",
       "3                  NaN               NaN                          NaN   \n",
       "4                  NaN               NaN                          NaN   \n",
       "...                ...               ...                          ...   \n",
       "307506          0.2021            0.0887                       0.9876   \n",
       "307507          0.0247            0.0435                       0.9727   \n",
       "307508          0.1031            0.0862                       0.9816   \n",
       "307509          0.0124               NaN                       0.9771   \n",
       "307510          0.0742            0.0526                       0.9881   \n",
       "\n",
       "        YEARS_BUILD_AVG  COMMONAREA_AVG  ELEVATORS_AVG  ENTRANCES_AVG  \\\n",
       "0                0.6192          0.0143           0.00         0.0690   \n",
       "1                0.7960          0.0605           0.08         0.0345   \n",
       "2                   NaN             NaN            NaN            NaN   \n",
       "3                   NaN             NaN            NaN            NaN   \n",
       "4                   NaN             NaN            NaN            NaN   \n",
       "...                 ...             ...            ...            ...   \n",
       "307506           0.8300          0.0202           0.22         0.1034   \n",
       "307507           0.6260          0.0022           0.00         0.1034   \n",
       "307508           0.7484          0.0123           0.00         0.2069   \n",
       "307509              NaN             NaN            NaN         0.0690   \n",
       "307510              NaN          0.0176           0.08         0.0690   \n",
       "\n",
       "        FLOORSMAX_AVG  FLOORSMIN_AVG  LANDAREA_AVG  LIVINGAPARTMENTS_AVG  \\\n",
       "0              0.0833         0.1250        0.0369                0.0202   \n",
       "1              0.2917         0.3333        0.0130                0.0773   \n",
       "2                 NaN            NaN           NaN                   NaN   \n",
       "3                 NaN            NaN           NaN                   NaN   \n",
       "4                 NaN            NaN           NaN                   NaN   \n",
       "...               ...            ...           ...                   ...   \n",
       "307506         0.6042         0.2708        0.0594                0.1484   \n",
       "307507         0.0833         0.1250        0.0579                0.0202   \n",
       "307508         0.1667         0.2083           NaN                0.0841   \n",
       "307509         0.0417            NaN           NaN                   NaN   \n",
       "307510         0.3750            NaN           NaN                   NaN   \n",
       "\n",
       "        LIVINGAREA_AVG  NONLIVINGAPARTMENTS_AVG  TOTALAREA_MODE  \n",
       "0               0.0190                   0.0000          0.0149  \n",
       "1               0.0549                   0.0039          0.0714  \n",
       "2                  NaN                      NaN             NaN  \n",
       "3                  NaN                      NaN             NaN  \n",
       "4                  NaN                      NaN             NaN  \n",
       "...                ...                      ...             ...  \n",
       "307506          0.1965                   0.0753          0.2898  \n",
       "307507          0.0257                   0.0000          0.0214  \n",
       "307508          0.9279                   0.0000          0.7970  \n",
       "307509          0.0061                      NaN          0.0086  \n",
       "307510          0.0791                      NaN          0.0718  \n",
       "\n",
       "[307511 rows x 14 columns]"
      ]
     },
     "execution_count": 13,
     "metadata": {},
     "output_type": "execute_result"
    }
   ],
   "source": [
    "build_features_data"
   ]
  },
  {
   "cell_type": "markdown",
   "metadata": {},
   "source": [
    "We now look if there are other high correlations between these \"new\" features."
   ]
  },
  {
   "cell_type": "code",
   "execution_count": 14,
   "metadata": {
    "scrolled": false
   },
   "outputs": [
    {
     "data": {
      "text/plain": [
       "(14.5, -0.5)"
      ]
     },
     "execution_count": 14,
     "metadata": {},
     "output_type": "execute_result"
    },
    {
     "data": {
      "image/png": "[encoded data removed]",
      "text/plain": [
       "<Figure size 720x720 with 2 Axes>"
      ]
     },
     "metadata": {
      "needs_background": "light"
     },
     "output_type": "display_data"
    }
   ],
   "source": [
    "plt.figure(figsize = (10, 10))\n",
    "ax = sns.heatmap(build_features_data.corr(), annot = True, linewidths = 0.5)\n",
    "ax.set_ylim(len(build_features_data.corr().columns) + 0.5, -0.5)"
   ]
  },
  {
   "cell_type": "markdown",
   "metadata": {},
   "source": [
    "We get a bunch of information: first of all features APARTMENTS_AVG, ELEVATORS_AVG, LIVINGAPARTMENTS_AVG, TOTALAREA_MODE and LIVINGAREA_AVG are all correlated and we should just keep one of them.\n",
    "\n",
    "The same can be said for FLOORSMAX_AVG and FLOORSMIN_AVG.\n",
    "\n",
    "To choose which of the said features we want to mantain, we're going to look at the standard deviation as well as at the missing values and save the ones with a nice tradeoff of high variance and poor missing entries."
   ]
  },
  {
   "cell_type": "code",
   "execution_count": 15,
   "metadata": {},
   "outputs": [
    {
     "data": {
      "text/plain": [
       "APARTMENTS_AVG                 0.108240\n",
       "BASEMENTAREA_AVG               0.082438\n",
       "YEARS_BEGINEXPLUATATION_AVG    0.059223\n",
       "YEARS_BUILD_AVG                0.113280\n",
       "COMMONAREA_AVG                 0.076036\n",
       "ELEVATORS_AVG                  0.134576\n",
       "ENTRANCES_AVG                  0.100049\n",
       "FLOORSMAX_AVG                  0.144641\n",
       "FLOORSMIN_AVG                  0.161380\n",
       "LANDAREA_AVG                   0.081184\n",
       "LIVINGAPARTMENTS_AVG           0.092576\n",
       "LIVINGAREA_AVG                 0.110565\n",
       "NONLIVINGAPARTMENTS_AVG        0.047732\n",
       "TOTALAREA_MODE                 0.107462\n",
       "dtype: float64"
      ]
     },
     "execution_count": 15,
     "metadata": {},
     "output_type": "execute_result"
    }
   ],
   "source": [
    "build_features_data.std()"
   ]
  },
  {
   "cell_type": "code",
   "execution_count": 16,
   "metadata": {
    "scrolled": true
   },
   "outputs": [
    {
     "data": {
      "text/plain": [
       "APARTMENTS_AVG                 156061\n",
       "BASEMENTAREA_AVG               179943\n",
       "YEARS_BEGINEXPLUATATION_AVG    150007\n",
       "YEARS_BUILD_AVG                204488\n",
       "COMMONAREA_AVG                 214865\n",
       "ELEVATORS_AVG                  163891\n",
       "ENTRANCES_AVG                  154828\n",
       "FLOORSMAX_AVG                  153020\n",
       "FLOORSMIN_AVG                  208642\n",
       "LANDAREA_AVG                   182590\n",
       "LIVINGAPARTMENTS_AVG           210199\n",
       "LIVINGAREA_AVG                 154350\n",
       "NONLIVINGAPARTMENTS_AVG        213514\n",
       "TOTALAREA_MODE                 148431\n",
       "dtype: int64"
      ]
     },
     "execution_count": 16,
     "metadata": {},
     "output_type": "execute_result"
    }
   ],
   "source": [
    "build_features_data.isnull().sum()"
   ]
  },
  {
   "cell_type": "markdown",
   "metadata": {},
   "source": [
    "We thus choose to keep LIVINGAREA_AVG and FLOORSMAX_AVG."
   ]
  },
  {
   "cell_type": "code",
   "execution_count": 17,
   "metadata": {},
   "outputs": [
    {
     "data": {
      "text/plain": [
       "array(['BASEMENTAREA_AVG', 'YEARS_BEGINEXPLUATATION_AVG',\n",
       "       'YEARS_BUILD_AVG', 'COMMONAREA_AVG', 'ENTRANCES_AVG',\n",
       "       'FLOORSMAX_AVG', 'LANDAREA_AVG', 'LIVINGAREA_AVG',\n",
       "       'NONLIVINGAPARTMENTS_AVG'], dtype=object)"
      ]
     },
     "execution_count": 17,
     "metadata": {},
     "output_type": "execute_result"
    }
   ],
   "source": [
    "building_features = np.delete(building_features, [0, 5, 8, 10, 13])\n",
    "building_features"
   ]
  },
  {
   "cell_type": "code",
   "execution_count": 18,
   "metadata": {},
   "outputs": [],
   "source": [
    "build_features_data = build_features_data[building_features]"
   ]
  },
  {
   "cell_type": "code",
   "execution_count": 19,
   "metadata": {
    "scrolled": false
   },
   "outputs": [
    {
     "data": {
      "text/html": [
       "<div>\n",
       "<style scoped>\n",
       "    .dataframe tbody tr th:only-of-type {\n",
       "        vertical-align: middle;\n",
       "    }\n",
       "\n",
       "    .dataframe tbody tr th {\n",
       "        vertical-align: top;\n",
       "    }\n",
       "\n",
       "    .dataframe thead th {\n",
       "        text-align: right;\n",
       "    }\n",
       "</style>\n",
       "<table border=\"1\" class=\"dataframe\">\n",
       "  <thead>\n",
       "    <tr style=\"text-align: right;\">\n",
       "      <th></th>\n",
       "      <th>BASEMENTAREA_AVG</th>\n",
       "      <th>YEARS_BEGINEXPLUATATION_AVG</th>\n",
       "      <th>YEARS_BUILD_AVG</th>\n",
       "      <th>COMMONAREA_AVG</th>\n",
       "      <th>ENTRANCES_AVG</th>\n",
       "      <th>FLOORSMAX_AVG</th>\n",
       "      <th>LANDAREA_AVG</th>\n",
       "      <th>LIVINGAREA_AVG</th>\n",
       "      <th>NONLIVINGAPARTMENTS_AVG</th>\n",
       "    </tr>\n",
       "  </thead>\n",
       "  <tbody>\n",
       "    <tr>\n",
       "      <th>0</th>\n",
       "      <td>0.0369</td>\n",
       "      <td>0.9722</td>\n",
       "      <td>0.6192</td>\n",
       "      <td>0.0143</td>\n",
       "      <td>0.0690</td>\n",
       "      <td>0.0833</td>\n",
       "      <td>0.0369</td>\n",
       "      <td>0.0190</td>\n",
       "      <td>0.0000</td>\n",
       "    </tr>\n",
       "    <tr>\n",
       "      <th>1</th>\n",
       "      <td>0.0529</td>\n",
       "      <td>0.9851</td>\n",
       "      <td>0.7960</td>\n",
       "      <td>0.0605</td>\n",
       "      <td>0.0345</td>\n",
       "      <td>0.2917</td>\n",
       "      <td>0.0130</td>\n",
       "      <td>0.0549</td>\n",
       "      <td>0.0039</td>\n",
       "    </tr>\n",
       "    <tr>\n",
       "      <th>2</th>\n",
       "      <td>NaN</td>\n",
       "      <td>NaN</td>\n",
       "      <td>NaN</td>\n",
       "      <td>NaN</td>\n",
       "      <td>NaN</td>\n",
       "      <td>NaN</td>\n",
       "      <td>NaN</td>\n",
       "      <td>NaN</td>\n",
       "      <td>NaN</td>\n",
       "    </tr>\n",
       "    <tr>\n",
       "      <th>3</th>\n",
       "      <td>NaN</td>\n",
       "      <td>NaN</td>\n",
       "      <td>NaN</td>\n",
       "      <td>NaN</td>\n",
       "      <td>NaN</td>\n",
       "      <td>NaN</td>\n",
       "      <td>NaN</td>\n",
       "      <td>NaN</td>\n",
       "      <td>NaN</td>\n",
       "    </tr>\n",
       "    <tr>\n",
       "      <th>4</th>\n",
       "      <td>NaN</td>\n",
       "      <td>NaN</td>\n",
       "      <td>NaN</td>\n",
       "      <td>NaN</td>\n",
       "      <td>NaN</td>\n",
       "      <td>NaN</td>\n",
       "      <td>NaN</td>\n",
       "      <td>NaN</td>\n",
       "      <td>NaN</td>\n",
       "    </tr>\n",
       "    <tr>\n",
       "      <th>...</th>\n",
       "      <td>...</td>\n",
       "      <td>...</td>\n",
       "      <td>...</td>\n",
       "      <td>...</td>\n",
       "      <td>...</td>\n",
       "      <td>...</td>\n",
       "      <td>...</td>\n",
       "      <td>...</td>\n",
       "      <td>...</td>\n",
       "    </tr>\n",
       "    <tr>\n",
       "      <th>307506</th>\n",
       "      <td>0.0887</td>\n",
       "      <td>0.9876</td>\n",
       "      <td>0.8300</td>\n",
       "      <td>0.0202</td>\n",
       "      <td>0.1034</td>\n",
       "      <td>0.6042</td>\n",
       "      <td>0.0594</td>\n",
       "      <td>0.1965</td>\n",
       "      <td>0.0753</td>\n",
       "    </tr>\n",
       "    <tr>\n",
       "      <th>307507</th>\n",
       "      <td>0.0435</td>\n",
       "      <td>0.9727</td>\n",
       "      <td>0.6260</td>\n",
       "      <td>0.0022</td>\n",
       "      <td>0.1034</td>\n",
       "      <td>0.0833</td>\n",
       "      <td>0.0579</td>\n",
       "      <td>0.0257</td>\n",
       "      <td>0.0000</td>\n",
       "    </tr>\n",
       "    <tr>\n",
       "      <th>307508</th>\n",
       "      <td>0.0862</td>\n",
       "      <td>0.9816</td>\n",
       "      <td>0.7484</td>\n",
       "      <td>0.0123</td>\n",
       "      <td>0.2069</td>\n",
       "      <td>0.1667</td>\n",
       "      <td>NaN</td>\n",
       "      <td>0.9279</td>\n",
       "      <td>0.0000</td>\n",
       "    </tr>\n",
       "    <tr>\n",
       "      <th>307509</th>\n",
       "      <td>NaN</td>\n",
       "      <td>0.9771</td>\n",
       "      <td>NaN</td>\n",
       "      <td>NaN</td>\n",
       "      <td>0.0690</td>\n",
       "      <td>0.0417</td>\n",
       "      <td>NaN</td>\n",
       "      <td>0.0061</td>\n",
       "      <td>NaN</td>\n",
       "    </tr>\n",
       "    <tr>\n",
       "      <th>307510</th>\n",
       "      <td>0.0526</td>\n",
       "      <td>0.9881</td>\n",
       "      <td>NaN</td>\n",
       "      <td>0.0176</td>\n",
       "      <td>0.0690</td>\n",
       "      <td>0.3750</td>\n",
       "      <td>NaN</td>\n",
       "      <td>0.0791</td>\n",
       "      <td>NaN</td>\n",
       "    </tr>\n",
       "  </tbody>\n",
       "</table>\n",
       "<p>307511 rows × 9 columns</p>\n",
       "</div>"
      ],
      "text/plain": [
       "        BASEMENTAREA_AVG  YEARS_BEGINEXPLUATATION_AVG  YEARS_BUILD_AVG  \\\n",
       "0                 0.0369                       0.9722           0.6192   \n",
       "1                 0.0529                       0.9851           0.7960   \n",
       "2                    NaN                          NaN              NaN   \n",
       "3                    NaN                          NaN              NaN   \n",
       "4                    NaN                          NaN              NaN   \n",
       "...                  ...                          ...              ...   \n",
       "307506            0.0887                       0.9876           0.8300   \n",
       "307507            0.0435                       0.9727           0.6260   \n",
       "307508            0.0862                       0.9816           0.7484   \n",
       "307509               NaN                       0.9771              NaN   \n",
       "307510            0.0526                       0.9881              NaN   \n",
       "\n",
       "        COMMONAREA_AVG  ENTRANCES_AVG  FLOORSMAX_AVG  LANDAREA_AVG  \\\n",
       "0               0.0143         0.0690         0.0833        0.0369   \n",
       "1               0.0605         0.0345         0.2917        0.0130   \n",
       "2                  NaN            NaN            NaN           NaN   \n",
       "3                  NaN            NaN            NaN           NaN   \n",
       "4                  NaN            NaN            NaN           NaN   \n",
       "...                ...            ...            ...           ...   \n",
       "307506          0.0202         0.1034         0.6042        0.0594   \n",
       "307507          0.0022         0.1034         0.0833        0.0579   \n",
       "307508          0.0123         0.2069         0.1667           NaN   \n",
       "307509             NaN         0.0690         0.0417           NaN   \n",
       "307510          0.0176         0.0690         0.3750           NaN   \n",
       "\n",
       "        LIVINGAREA_AVG  NONLIVINGAPARTMENTS_AVG  \n",
       "0               0.0190                   0.0000  \n",
       "1               0.0549                   0.0039  \n",
       "2                  NaN                      NaN  \n",
       "3                  NaN                      NaN  \n",
       "4                  NaN                      NaN  \n",
       "...                ...                      ...  \n",
       "307506          0.1965                   0.0753  \n",
       "307507          0.0257                   0.0000  \n",
       "307508          0.9279                   0.0000  \n",
       "307509          0.0061                      NaN  \n",
       "307510          0.0791                      NaN  \n",
       "\n",
       "[307511 rows x 9 columns]"
      ]
     },
     "execution_count": 19,
     "metadata": {},
     "output_type": "execute_result"
    }
   ],
   "source": [
    "build_features_data"
   ]
  },
  {
   "cell_type": "markdown",
   "metadata": {},
   "source": [
    "We now want to treat missing values. Before choosing how to impute them it's better to check if there's a correlation between missing entries and target value."
   ]
  },
  {
   "cell_type": "code",
   "execution_count": 20,
   "metadata": {},
   "outputs": [],
   "source": [
    "def check_missing_value_distributions(dataframe, columns, target_vector):\n",
    "    observations = len(target_vector)\n",
    "    sns.set()\n",
    "    for feature in columns:\n",
    "        target_not_missing = 0\n",
    "        target_missing = 0\n",
    "        for row in dataframe.iterrows():\n",
    "            if(np.isnan(row[1][feature])):\n",
    "                target_missing = target_missing + target_vector[row[0]]\n",
    "            else:\n",
    "                target_not_missing = target_not_missing + target_vector[row[0]]\n",
    "        f, axes = plt.subplots(1, 2, figsize = (20, 7))\n",
    "        f.suptitle(feature)\n",
    "        axes[0].set_title(\"Not missing values\")\n",
    "        axes[1].set_title(\"Missing values\")\n",
    "        sns.barplot(x = [0, 1], y = [(observations - target_not_missing) * (100 / observations), target_not_missing * (100 / observations)], ax = axes[0])\n",
    "        sns.barplot(x = [0, 1], y = [(observations - target_missing) * (100 / observations), target_missing * (100 / observations)], ax = axes[1])"
   ]
  },
  {
   "cell_type": "code",
   "execution_count": 21,
   "metadata": {
    "scrolled": false
   },
   "outputs": [
    {
     "data": {
      "image/png": "[encoded data removed]",
      "text/plain": [
       "<Figure size 1440x504 with 2 Axes>"
      ]
     },
     "metadata": {},
     "output_type": "display_data"
    },
    {
     "data": {
      "image/png": "[encoded data removed]",
      "text/plain": [
       "<Figure size 1440x504 with 2 Axes>"
      ]
     },
     "metadata": {},
     "output_type": "display_data"
    },
    {
     "data": {
      "image/png": "[encoded data removed]",
      "text/plain": [
       "<Figure size 1440x504 with 2 Axes>"
      ]
     },
     "metadata": {},
     "output_type": "display_data"
    },
    {
     "data": {
      "image/png": "[encoded data removed]",
      "text/plain": [
       "<Figure size 1440x504 with 2 Axes>"
      ]
     },
     "metadata": {},
     "output_type": "display_data"
    },
    {
     "data": {
      "image/png": "[encoded data removed]",
      "text/plain": [
       "<Figure size 1440x504 with 2 Axes>"
      ]
     },
     "metadata": {},
     "output_type": "display_data"
    },
    {
     "data": {
      "image/png": "[encoded data removed]",
      "text/plain": [
       "<Figure size 1440x504 with 2 Axes>"
      ]
     },
     "metadata": {},
     "output_type": "display_data"
    },
    {
     "data": {
      "image/png": "[encoded data removed]",
      "text/plain": [
       "<Figure size 1440x504 with 2 Axes>"
      ]
     },
     "metadata": {},
     "output_type": "display_data"
    },
    {
     "data": {
      "image/png": "[encoded data removed]",
      "text/plain": [
       "<Figure size 1440x504 with 2 Axes>"
      ]
     },
     "metadata": {},
     "output_type": "display_data"
    },
    {
     "data": {
      "image/png": "[encoded data removed]",
      "text/plain": [
       "<Figure size 1440x504 with 2 Axes>"
      ]
     },
     "metadata": {},
     "output_type": "display_data"
    }
   ],
   "source": [
    "check_missing_value_distributions(build_features_data, building_features, application_train['TARGET'])"
   ]
  },
  {
   "cell_type": "code",
   "execution_count": 22,
   "metadata": {},
   "outputs": [],
   "source": [
    "def count_missing_values(dataframe, columns):\n",
    "    to_return = []\n",
    "    for row in dataframe.iterrows():\n",
    "        count = 0\n",
    "        for feature in columns:\n",
    "            if(np.isnan(row[1][feature])):\n",
    "                count = count + 1\n",
    "        to_return.append(count)\n",
    "    return(to_return)"
   ]
  },
  {
   "cell_type": "code",
   "execution_count": 23,
   "metadata": {},
   "outputs": [],
   "source": [
    "missing_features_column = count_missing_values(application_train, building_features)"
   ]
  },
  {
   "cell_type": "code",
   "execution_count": 24,
   "metadata": {},
   "outputs": [],
   "source": [
    "application_train[\"MISSING BUILDING DATA\"] = missing_features_column"
   ]
  },
  {
   "cell_type": "code",
   "execution_count": 25,
   "metadata": {
    "scrolled": true
   },
   "outputs": [
    {
     "data": {
      "text/plain": [
       "<matplotlib.axes._subplots.AxesSubplot at 0x186d535e888>"
      ]
     },
     "execution_count": 25,
     "metadata": {},
     "output_type": "execute_result"
    },
    {
     "data": {
      "image/png": "[encoded data removed]",
      "text/plain": [
       "<Figure size 432x288 with 1 Axes>"
      ]
     },
     "metadata": {},
     "output_type": "display_data"
    }
   ],
   "source": [
    "miss_building_and_target = []\n",
    "for index in range(10):\n",
    "    current = application_train[\"TARGET\"][application_train[\"MISSING BUILDING DATA\"] == index]\n",
    "    try:\n",
    "        miss_building_and_target.append(sum(current) / len(current))\n",
    "    except:\n",
    "        miss_building_and_target.append(0)\n",
    "\n",
    "sns.barplot(x = list(range(10)), y = miss_building_and_target)"
   ]
  },
  {
   "cell_type": "markdown",
   "metadata": {},
   "source": [
    "Since it seems there's an increase in the percentage of zero targets when a lot of values are missing we normalize our column so to add a feature."
   ]
  },
  {
   "cell_type": "code",
   "execution_count": 26,
   "metadata": {
    "scrolled": true
   },
   "outputs": [],
   "source": [
    "application_train[\"MISSING BUILDING DATA\"] = application_train[\"MISSING BUILDING DATA\"] > 7"
   ]
  },
  {
   "cell_type": "code",
   "execution_count": 27,
   "metadata": {
    "scrolled": false
   },
   "outputs": [
    {
     "data": {
      "text/plain": [
       "0         False\n",
       "1         False\n",
       "2          True\n",
       "3          True\n",
       "4          True\n",
       "          ...  \n",
       "307506    False\n",
       "307507    False\n",
       "307508    False\n",
       "307509    False\n",
       "307510    False\n",
       "Name: MISSING BUILDING DATA, Length: 307511, dtype: bool"
      ]
     },
     "execution_count": 27,
     "metadata": {},
     "output_type": "execute_result"
    }
   ],
   "source": [
    "application_train[\"MISSING BUILDING DATA\"]"
   ]
  },
  {
   "cell_type": "code",
   "execution_count": 28,
   "metadata": {},
   "outputs": [],
   "source": [
    "missing_features_column = count_missing_values(application_test, building_features)\n",
    "application_test[\"MISSING BUILDING DATA\"] = missing_features_column\n",
    "application_test[\"MISSING BUILDING DATA\"] = application_test[\"MISSING BUILDING DATA\"] > 7"
   ]
  },
  {
   "cell_type": "markdown",
   "metadata": {},
   "source": [
    "Now let's work on other features."
   ]
  },
  {
   "cell_type": "code",
   "execution_count": 29,
   "metadata": {
    "scrolled": false
   },
   "outputs": [
    {
     "data": {
      "text/plain": [
       "Index(['AMT_INCOME_TOTAL', 'AMT_CREDIT', 'AMT_ANNUITY', 'AMT_GOODS_PRICE',\n",
       "       'REGION_POPULATION_RELATIVE', 'DAYS_REGISTRATION', 'OWN_CAR_AGE',\n",
       "       'CNT_FAM_MEMBERS', 'EXT_SOURCE_1', 'EXT_SOURCE_2', 'EXT_SOURCE_3',\n",
       "       'APARTMENTS_AVG', 'BASEMENTAREA_AVG', 'YEARS_BEGINEXPLUATATION_AVG',\n",
       "       'YEARS_BUILD_AVG', 'COMMONAREA_AVG', 'ELEVATORS_AVG', 'ENTRANCES_AVG',\n",
       "       'FLOORSMAX_AVG', 'FLOORSMIN_AVG', 'LANDAREA_AVG',\n",
       "       'LIVINGAPARTMENTS_AVG', 'LIVINGAREA_AVG', 'NONLIVINGAPARTMENTS_AVG',\n",
       "       'NONLIVINGAREA_AVG', 'APARTMENTS_MODE', 'BASEMENTAREA_MODE',\n",
       "       'YEARS_BEGINEXPLUATATION_MODE', 'YEARS_BUILD_MODE', 'COMMONAREA_MODE',\n",
       "       'ELEVATORS_MODE', 'ENTRANCES_MODE', 'FLOORSMAX_MODE', 'FLOORSMIN_MODE',\n",
       "       'LANDAREA_MODE', 'LIVINGAPARTMENTS_MODE', 'LIVINGAREA_MODE',\n",
       "       'NONLIVINGAPARTMENTS_MODE', 'NONLIVINGAREA_MODE', 'APARTMENTS_MEDI',\n",
       "       'BASEMENTAREA_MEDI', 'YEARS_BEGINEXPLUATATION_MEDI', 'YEARS_BUILD_MEDI',\n",
       "       'COMMONAREA_MEDI', 'ELEVATORS_MEDI', 'ENTRANCES_MEDI', 'FLOORSMAX_MEDI',\n",
       "       'FLOORSMIN_MEDI', 'LANDAREA_MEDI', 'LIVINGAPARTMENTS_MEDI',\n",
       "       'LIVINGAREA_MEDI', 'NONLIVINGAPARTMENTS_MEDI', 'NONLIVINGAREA_MEDI',\n",
       "       'TOTALAREA_MODE', 'OBS_30_CNT_SOCIAL_CIRCLE',\n",
       "       'DEF_30_CNT_SOCIAL_CIRCLE', 'OBS_60_CNT_SOCIAL_CIRCLE',\n",
       "       'DEF_60_CNT_SOCIAL_CIRCLE', 'DAYS_LAST_PHONE_CHANGE',\n",
       "       'AMT_REQ_CREDIT_BUREAU_HOUR', 'AMT_REQ_CREDIT_BUREAU_DAY',\n",
       "       'AMT_REQ_CREDIT_BUREAU_WEEK', 'AMT_REQ_CREDIT_BUREAU_MON',\n",
       "       'AMT_REQ_CREDIT_BUREAU_QRT', 'AMT_REQ_CREDIT_BUREAU_YEAR'],\n",
       "      dtype='object')"
      ]
     },
     "execution_count": 29,
     "metadata": {},
     "output_type": "execute_result"
    }
   ],
   "source": [
    "application_train.select_dtypes('float64').columns"
   ]
  },
  {
   "cell_type": "code",
   "execution_count": 30,
   "metadata": {
    "scrolled": true
   },
   "outputs": [
    {
     "data": {
      "text/plain": [
       "Index(['SK_ID_CURR', 'TARGET', 'CNT_CHILDREN', 'DAYS_BIRTH', 'DAYS_EMPLOYED',\n",
       "       'DAYS_ID_PUBLISH', 'FLAG_MOBIL', 'FLAG_EMP_PHONE', 'FLAG_WORK_PHONE',\n",
       "       'FLAG_CONT_MOBILE', 'FLAG_PHONE', 'FLAG_EMAIL', 'REGION_RATING_CLIENT',\n",
       "       'REGION_RATING_CLIENT_W_CITY', 'HOUR_APPR_PROCESS_START',\n",
       "       'REG_REGION_NOT_LIVE_REGION', 'REG_REGION_NOT_WORK_REGION',\n",
       "       'LIVE_REGION_NOT_WORK_REGION', 'REG_CITY_NOT_LIVE_CITY',\n",
       "       'REG_CITY_NOT_WORK_CITY', 'LIVE_CITY_NOT_WORK_CITY', 'FLAG_DOCUMENT_2',\n",
       "       'FLAG_DOCUMENT_3', 'FLAG_DOCUMENT_4', 'FLAG_DOCUMENT_5',\n",
       "       'FLAG_DOCUMENT_6', 'FLAG_DOCUMENT_7', 'FLAG_DOCUMENT_8',\n",
       "       'FLAG_DOCUMENT_9', 'FLAG_DOCUMENT_10', 'FLAG_DOCUMENT_11',\n",
       "       'FLAG_DOCUMENT_12', 'FLAG_DOCUMENT_13', 'FLAG_DOCUMENT_14',\n",
       "       'FLAG_DOCUMENT_15', 'FLAG_DOCUMENT_16', 'FLAG_DOCUMENT_17',\n",
       "       'FLAG_DOCUMENT_18', 'FLAG_DOCUMENT_19', 'FLAG_DOCUMENT_20',\n",
       "       'FLAG_DOCUMENT_21'],\n",
       "      dtype='object')"
      ]
     },
     "execution_count": 30,
     "metadata": {},
     "output_type": "execute_result"
    }
   ],
   "source": [
    "application_train.select_dtypes('int64').columns"
   ]
  },
  {
   "cell_type": "code",
   "execution_count": 31,
   "metadata": {},
   "outputs": [
    {
     "data": {
      "text/plain": [
       "Index(['AMT_REQ_CREDIT_BUREAU_HOUR', 'AMT_REQ_CREDIT_BUREAU_DAY',\n",
       "       'AMT_REQ_CREDIT_BUREAU_WEEK', 'AMT_REQ_CREDIT_BUREAU_MON',\n",
       "       'AMT_REQ_CREDIT_BUREAU_QRT', 'AMT_REQ_CREDIT_BUREAU_YEAR'],\n",
       "      dtype='object')"
      ]
     },
     "execution_count": 31,
     "metadata": {},
     "output_type": "execute_result"
    }
   ],
   "source": [
    "enquiries_features = application_train.columns[116:122]\n",
    "enquiries_features"
   ]
  },
  {
   "cell_type": "code",
   "execution_count": 32,
   "metadata": {
    "scrolled": false
   },
   "outputs": [
    {
     "data": {
      "text/html": [
       "<div>\n",
       "<style scoped>\n",
       "    .dataframe tbody tr th:only-of-type {\n",
       "        vertical-align: middle;\n",
       "    }\n",
       "\n",
       "    .dataframe tbody tr th {\n",
       "        vertical-align: top;\n",
       "    }\n",
       "\n",
       "    .dataframe thead th {\n",
       "        text-align: right;\n",
       "    }\n",
       "</style>\n",
       "<table border=\"1\" class=\"dataframe\">\n",
       "  <thead>\n",
       "    <tr style=\"text-align: right;\">\n",
       "      <th></th>\n",
       "      <th>AMT_REQ_CREDIT_BUREAU_HOUR</th>\n",
       "      <th>AMT_REQ_CREDIT_BUREAU_DAY</th>\n",
       "      <th>AMT_REQ_CREDIT_BUREAU_WEEK</th>\n",
       "      <th>AMT_REQ_CREDIT_BUREAU_MON</th>\n",
       "      <th>AMT_REQ_CREDIT_BUREAU_QRT</th>\n",
       "      <th>AMT_REQ_CREDIT_BUREAU_YEAR</th>\n",
       "    </tr>\n",
       "  </thead>\n",
       "  <tbody>\n",
       "    <tr>\n",
       "      <th>0</th>\n",
       "      <td>0.0</td>\n",
       "      <td>0.0</td>\n",
       "      <td>0.0</td>\n",
       "      <td>0.0</td>\n",
       "      <td>0.0</td>\n",
       "      <td>1.0</td>\n",
       "    </tr>\n",
       "    <tr>\n",
       "      <th>1</th>\n",
       "      <td>0.0</td>\n",
       "      <td>0.0</td>\n",
       "      <td>0.0</td>\n",
       "      <td>0.0</td>\n",
       "      <td>0.0</td>\n",
       "      <td>0.0</td>\n",
       "    </tr>\n",
       "    <tr>\n",
       "      <th>2</th>\n",
       "      <td>0.0</td>\n",
       "      <td>0.0</td>\n",
       "      <td>0.0</td>\n",
       "      <td>0.0</td>\n",
       "      <td>0.0</td>\n",
       "      <td>0.0</td>\n",
       "    </tr>\n",
       "    <tr>\n",
       "      <th>3</th>\n",
       "      <td>NaN</td>\n",
       "      <td>NaN</td>\n",
       "      <td>NaN</td>\n",
       "      <td>NaN</td>\n",
       "      <td>NaN</td>\n",
       "      <td>NaN</td>\n",
       "    </tr>\n",
       "    <tr>\n",
       "      <th>4</th>\n",
       "      <td>0.0</td>\n",
       "      <td>0.0</td>\n",
       "      <td>0.0</td>\n",
       "      <td>0.0</td>\n",
       "      <td>0.0</td>\n",
       "      <td>0.0</td>\n",
       "    </tr>\n",
       "    <tr>\n",
       "      <th>...</th>\n",
       "      <td>...</td>\n",
       "      <td>...</td>\n",
       "      <td>...</td>\n",
       "      <td>...</td>\n",
       "      <td>...</td>\n",
       "      <td>...</td>\n",
       "    </tr>\n",
       "    <tr>\n",
       "      <th>307506</th>\n",
       "      <td>NaN</td>\n",
       "      <td>NaN</td>\n",
       "      <td>NaN</td>\n",
       "      <td>NaN</td>\n",
       "      <td>NaN</td>\n",
       "      <td>NaN</td>\n",
       "    </tr>\n",
       "    <tr>\n",
       "      <th>307507</th>\n",
       "      <td>NaN</td>\n",
       "      <td>NaN</td>\n",
       "      <td>NaN</td>\n",
       "      <td>NaN</td>\n",
       "      <td>NaN</td>\n",
       "      <td>NaN</td>\n",
       "    </tr>\n",
       "    <tr>\n",
       "      <th>307508</th>\n",
       "      <td>1.0</td>\n",
       "      <td>0.0</td>\n",
       "      <td>0.0</td>\n",
       "      <td>1.0</td>\n",
       "      <td>0.0</td>\n",
       "      <td>1.0</td>\n",
       "    </tr>\n",
       "    <tr>\n",
       "      <th>307509</th>\n",
       "      <td>0.0</td>\n",
       "      <td>0.0</td>\n",
       "      <td>0.0</td>\n",
       "      <td>0.0</td>\n",
       "      <td>0.0</td>\n",
       "      <td>0.0</td>\n",
       "    </tr>\n",
       "    <tr>\n",
       "      <th>307510</th>\n",
       "      <td>0.0</td>\n",
       "      <td>0.0</td>\n",
       "      <td>0.0</td>\n",
       "      <td>2.0</td>\n",
       "      <td>0.0</td>\n",
       "      <td>1.0</td>\n",
       "    </tr>\n",
       "  </tbody>\n",
       "</table>\n",
       "<p>307511 rows × 6 columns</p>\n",
       "</div>"
      ],
      "text/plain": [
       "        AMT_REQ_CREDIT_BUREAU_HOUR  AMT_REQ_CREDIT_BUREAU_DAY  \\\n",
       "0                              0.0                        0.0   \n",
       "1                              0.0                        0.0   \n",
       "2                              0.0                        0.0   \n",
       "3                              NaN                        NaN   \n",
       "4                              0.0                        0.0   \n",
       "...                            ...                        ...   \n",
       "307506                         NaN                        NaN   \n",
       "307507                         NaN                        NaN   \n",
       "307508                         1.0                        0.0   \n",
       "307509                         0.0                        0.0   \n",
       "307510                         0.0                        0.0   \n",
       "\n",
       "        AMT_REQ_CREDIT_BUREAU_WEEK  AMT_REQ_CREDIT_BUREAU_MON  \\\n",
       "0                              0.0                        0.0   \n",
       "1                              0.0                        0.0   \n",
       "2                              0.0                        0.0   \n",
       "3                              NaN                        NaN   \n",
       "4                              0.0                        0.0   \n",
       "...                            ...                        ...   \n",
       "307506                         NaN                        NaN   \n",
       "307507                         NaN                        NaN   \n",
       "307508                         0.0                        1.0   \n",
       "307509                         0.0                        0.0   \n",
       "307510                         0.0                        2.0   \n",
       "\n",
       "        AMT_REQ_CREDIT_BUREAU_QRT  AMT_REQ_CREDIT_BUREAU_YEAR  \n",
       "0                             0.0                         1.0  \n",
       "1                             0.0                         0.0  \n",
       "2                             0.0                         0.0  \n",
       "3                             NaN                         NaN  \n",
       "4                             0.0                         0.0  \n",
       "...                           ...                         ...  \n",
       "307506                        NaN                         NaN  \n",
       "307507                        NaN                         NaN  \n",
       "307508                        0.0                         1.0  \n",
       "307509                        0.0                         0.0  \n",
       "307510                        0.0                         1.0  \n",
       "\n",
       "[307511 rows x 6 columns]"
      ]
     },
     "execution_count": 32,
     "metadata": {},
     "output_type": "execute_result"
    }
   ],
   "source": [
    "enquiries_data = application_train[enquiries_features]\n",
    "enquiries_data"
   ]
  },
  {
   "cell_type": "code",
   "execution_count": 33,
   "metadata": {
    "scrolled": false
   },
   "outputs": [
    {
     "data": {
      "text/plain": [
       "(6.5, -0.5)"
      ]
     },
     "execution_count": 33,
     "metadata": {},
     "output_type": "execute_result"
    },
    {
     "data": {
      "image/png": "[encoded data removed]",
      "text/plain": [
       "<Figure size 720x720 with 2 Axes>"
      ]
     },
     "metadata": {},
     "output_type": "display_data"
    }
   ],
   "source": [
    "plt.figure(figsize = (10, 10))\n",
    "ax = sns.heatmap(enquiries_data.corr(), annot = True, linewidths = 0.5)\n",
    "ax.set_ylim(len(enquiries_data.corr().columns) + 0.5, -0.5)"
   ]
  },
  {
   "cell_type": "code",
   "execution_count": 34,
   "metadata": {},
   "outputs": [
    {
     "data": {
      "text/plain": [
       "{0, 6}"
      ]
     },
     "execution_count": 34,
     "metadata": {},
     "output_type": "execute_result"
    }
   ],
   "source": [
    "enquiries_missing = count_missing_values(enquiries_data, enquiries_data.columns)\n",
    "set(enquiries_missing)"
   ]
  },
  {
   "cell_type": "code",
   "execution_count": 35,
   "metadata": {},
   "outputs": [],
   "source": [
    "application_train[\"ENQUIRIES MISSING DATA\"] = enquiries_missing"
   ]
  },
  {
   "cell_type": "code",
   "execution_count": 36,
   "metadata": {
    "scrolled": false
   },
   "outputs": [
    {
     "data": {
      "text/plain": [
       "<matplotlib.axes._subplots.AxesSubplot at 0x186d52efcc8>"
      ]
     },
     "execution_count": 36,
     "metadata": {},
     "output_type": "execute_result"
    },
    {
     "data": {
      "image/png": "[encoded data removed]",
      "text/plain": [
       "<Figure size 432x288 with 1 Axes>"
      ]
     },
     "metadata": {},
     "output_type": "display_data"
    }
   ],
   "source": [
    "miss_building_and_target = []\n",
    "for index in range(2):\n",
    "    current = application_train[\"TARGET\"][application_train[\"ENQUIRIES MISSING DATA\"] == index * 6]\n",
    "    try:\n",
    "        miss_building_and_target.append(sum(current) / len(current))\n",
    "    except:\n",
    "        miss_building_and_target.append(0)\n",
    "\n",
    "sns.barplot(x = [0, 6], y = miss_building_and_target)"
   ]
  },
  {
   "cell_type": "code",
   "execution_count": 37,
   "metadata": {},
   "outputs": [
    {
     "data": {
      "text/plain": [
       "AMT_REQ_CREDIT_BUREAU_HOUR    41519\n",
       "AMT_REQ_CREDIT_BUREAU_DAY     41519\n",
       "AMT_REQ_CREDIT_BUREAU_WEEK    41519\n",
       "AMT_REQ_CREDIT_BUREAU_MON     41519\n",
       "AMT_REQ_CREDIT_BUREAU_QRT     41519\n",
       "AMT_REQ_CREDIT_BUREAU_YEAR    41519\n",
       "dtype: int64"
      ]
     },
     "execution_count": 37,
     "metadata": {},
     "output_type": "execute_result"
    }
   ],
   "source": [
    "enquiries_data.isnull().sum()"
   ]
  },
  {
   "cell_type": "code",
   "execution_count": 38,
   "metadata": {},
   "outputs": [
    {
     "data": {
      "text/plain": [
       "Index(['OBS_30_CNT_SOCIAL_CIRCLE', 'DEF_30_CNT_SOCIAL_CIRCLE',\n",
       "       'OBS_60_CNT_SOCIAL_CIRCLE', 'DEF_60_CNT_SOCIAL_CIRCLE'],\n",
       "      dtype='object')"
      ]
     },
     "execution_count": 38,
     "metadata": {},
     "output_type": "execute_result"
    }
   ],
   "source": [
    "social_features = application_train.columns[91:95]\n",
    "social_features"
   ]
  },
  {
   "cell_type": "code",
   "execution_count": 39,
   "metadata": {},
   "outputs": [
    {
     "data": {
      "text/html": [
       "<div>\n",
       "<style scoped>\n",
       "    .dataframe tbody tr th:only-of-type {\n",
       "        vertical-align: middle;\n",
       "    }\n",
       "\n",
       "    .dataframe tbody tr th {\n",
       "        vertical-align: top;\n",
       "    }\n",
       "\n",
       "    .dataframe thead th {\n",
       "        text-align: right;\n",
       "    }\n",
       "</style>\n",
       "<table border=\"1\" class=\"dataframe\">\n",
       "  <thead>\n",
       "    <tr style=\"text-align: right;\">\n",
       "      <th></th>\n",
       "      <th>OBS_30_CNT_SOCIAL_CIRCLE</th>\n",
       "      <th>DEF_30_CNT_SOCIAL_CIRCLE</th>\n",
       "      <th>OBS_60_CNT_SOCIAL_CIRCLE</th>\n",
       "      <th>DEF_60_CNT_SOCIAL_CIRCLE</th>\n",
       "    </tr>\n",
       "  </thead>\n",
       "  <tbody>\n",
       "    <tr>\n",
       "      <th>0</th>\n",
       "      <td>2.0</td>\n",
       "      <td>2.0</td>\n",
       "      <td>2.0</td>\n",
       "      <td>2.0</td>\n",
       "    </tr>\n",
       "    <tr>\n",
       "      <th>1</th>\n",
       "      <td>1.0</td>\n",
       "      <td>0.0</td>\n",
       "      <td>1.0</td>\n",
       "      <td>0.0</td>\n",
       "    </tr>\n",
       "    <tr>\n",
       "      <th>2</th>\n",
       "      <td>0.0</td>\n",
       "      <td>0.0</td>\n",
       "      <td>0.0</td>\n",
       "      <td>0.0</td>\n",
       "    </tr>\n",
       "    <tr>\n",
       "      <th>3</th>\n",
       "      <td>2.0</td>\n",
       "      <td>0.0</td>\n",
       "      <td>2.0</td>\n",
       "      <td>0.0</td>\n",
       "    </tr>\n",
       "    <tr>\n",
       "      <th>4</th>\n",
       "      <td>0.0</td>\n",
       "      <td>0.0</td>\n",
       "      <td>0.0</td>\n",
       "      <td>0.0</td>\n",
       "    </tr>\n",
       "    <tr>\n",
       "      <th>...</th>\n",
       "      <td>...</td>\n",
       "      <td>...</td>\n",
       "      <td>...</td>\n",
       "      <td>...</td>\n",
       "    </tr>\n",
       "    <tr>\n",
       "      <th>307506</th>\n",
       "      <td>0.0</td>\n",
       "      <td>0.0</td>\n",
       "      <td>0.0</td>\n",
       "      <td>0.0</td>\n",
       "    </tr>\n",
       "    <tr>\n",
       "      <th>307507</th>\n",
       "      <td>0.0</td>\n",
       "      <td>0.0</td>\n",
       "      <td>0.0</td>\n",
       "      <td>0.0</td>\n",
       "    </tr>\n",
       "    <tr>\n",
       "      <th>307508</th>\n",
       "      <td>6.0</td>\n",
       "      <td>0.0</td>\n",
       "      <td>6.0</td>\n",
       "      <td>0.0</td>\n",
       "    </tr>\n",
       "    <tr>\n",
       "      <th>307509</th>\n",
       "      <td>0.0</td>\n",
       "      <td>0.0</td>\n",
       "      <td>0.0</td>\n",
       "      <td>0.0</td>\n",
       "    </tr>\n",
       "    <tr>\n",
       "      <th>307510</th>\n",
       "      <td>0.0</td>\n",
       "      <td>0.0</td>\n",
       "      <td>0.0</td>\n",
       "      <td>0.0</td>\n",
       "    </tr>\n",
       "  </tbody>\n",
       "</table>\n",
       "<p>307511 rows × 4 columns</p>\n",
       "</div>"
      ],
      "text/plain": [
       "        OBS_30_CNT_SOCIAL_CIRCLE  DEF_30_CNT_SOCIAL_CIRCLE  \\\n",
       "0                            2.0                       2.0   \n",
       "1                            1.0                       0.0   \n",
       "2                            0.0                       0.0   \n",
       "3                            2.0                       0.0   \n",
       "4                            0.0                       0.0   \n",
       "...                          ...                       ...   \n",
       "307506                       0.0                       0.0   \n",
       "307507                       0.0                       0.0   \n",
       "307508                       6.0                       0.0   \n",
       "307509                       0.0                       0.0   \n",
       "307510                       0.0                       0.0   \n",
       "\n",
       "        OBS_60_CNT_SOCIAL_CIRCLE  DEF_60_CNT_SOCIAL_CIRCLE  \n",
       "0                            2.0                       2.0  \n",
       "1                            1.0                       0.0  \n",
       "2                            0.0                       0.0  \n",
       "3                            2.0                       0.0  \n",
       "4                            0.0                       0.0  \n",
       "...                          ...                       ...  \n",
       "307506                       0.0                       0.0  \n",
       "307507                       0.0                       0.0  \n",
       "307508                       6.0                       0.0  \n",
       "307509                       0.0                       0.0  \n",
       "307510                       0.0                       0.0  \n",
       "\n",
       "[307511 rows x 4 columns]"
      ]
     },
     "execution_count": 39,
     "metadata": {},
     "output_type": "execute_result"
    }
   ],
   "source": [
    "social_features_data = application_train[social_features]\n",
    "social_features_data"
   ]
  },
  {
   "cell_type": "code",
   "execution_count": 40,
   "metadata": {
    "scrolled": false
   },
   "outputs": [
    {
     "data": {
      "text/plain": [
       "(4.5, -0.5)"
      ]
     },
     "execution_count": 40,
     "metadata": {},
     "output_type": "execute_result"
    },
    {
     "data": {
      "image/png": "[encoded data removed]",
      "text/plain": [
       "<Figure size 1440x1440 with 2 Axes>"
      ]
     },
     "metadata": {},
     "output_type": "display_data"
    }
   ],
   "source": [
    "plt.figure(figsize = (20, 20))\n",
    "ax = sns.heatmap(social_features_data.corr(), annot = True, linewidths = 0.5)\n",
    "ax.set_ylim(len(social_features_data.corr().columns) + 0.5, -0.5)"
   ]
  },
  {
   "cell_type": "code",
   "execution_count": 41,
   "metadata": {
    "scrolled": true
   },
   "outputs": [
    {
     "data": {
      "text/plain": [
       "OBS_30_CNT_SOCIAL_CIRCLE    2.400989\n",
       "DEF_30_CNT_SOCIAL_CIRCLE    0.446698\n",
       "OBS_60_CNT_SOCIAL_CIRCLE    2.379803\n",
       "DEF_60_CNT_SOCIAL_CIRCLE    0.362291\n",
       "dtype: float64"
      ]
     },
     "execution_count": 41,
     "metadata": {},
     "output_type": "execute_result"
    }
   ],
   "source": [
    "social_features_data.std()"
   ]
  },
  {
   "cell_type": "code",
   "execution_count": 42,
   "metadata": {},
   "outputs": [],
   "source": [
    "social_features = [\"OBS_30_CNT_SOCIAL_CIRCLE\", \"DEF_30_CNT_SOCIAL_CIRCLE\"]\n",
    "social_features_data = social_features_data[social_features]"
   ]
  },
  {
   "cell_type": "code",
   "execution_count": 43,
   "metadata": {
    "scrolled": false
   },
   "outputs": [
    {
     "data": {
      "text/html": [
       "<div>\n",
       "<style scoped>\n",
       "    .dataframe tbody tr th:only-of-type {\n",
       "        vertical-align: middle;\n",
       "    }\n",
       "\n",
       "    .dataframe tbody tr th {\n",
       "        vertical-align: top;\n",
       "    }\n",
       "\n",
       "    .dataframe thead th {\n",
       "        text-align: right;\n",
       "    }\n",
       "</style>\n",
       "<table border=\"1\" class=\"dataframe\">\n",
       "  <thead>\n",
       "    <tr style=\"text-align: right;\">\n",
       "      <th></th>\n",
       "      <th>OBS_30_CNT_SOCIAL_CIRCLE</th>\n",
       "      <th>DEF_30_CNT_SOCIAL_CIRCLE</th>\n",
       "    </tr>\n",
       "  </thead>\n",
       "  <tbody>\n",
       "    <tr>\n",
       "      <th>0</th>\n",
       "      <td>2.0</td>\n",
       "      <td>2.0</td>\n",
       "    </tr>\n",
       "    <tr>\n",
       "      <th>1</th>\n",
       "      <td>1.0</td>\n",
       "      <td>0.0</td>\n",
       "    </tr>\n",
       "    <tr>\n",
       "      <th>2</th>\n",
       "      <td>0.0</td>\n",
       "      <td>0.0</td>\n",
       "    </tr>\n",
       "    <tr>\n",
       "      <th>3</th>\n",
       "      <td>2.0</td>\n",
       "      <td>0.0</td>\n",
       "    </tr>\n",
       "    <tr>\n",
       "      <th>4</th>\n",
       "      <td>0.0</td>\n",
       "      <td>0.0</td>\n",
       "    </tr>\n",
       "    <tr>\n",
       "      <th>...</th>\n",
       "      <td>...</td>\n",
       "      <td>...</td>\n",
       "    </tr>\n",
       "    <tr>\n",
       "      <th>307506</th>\n",
       "      <td>0.0</td>\n",
       "      <td>0.0</td>\n",
       "    </tr>\n",
       "    <tr>\n",
       "      <th>307507</th>\n",
       "      <td>0.0</td>\n",
       "      <td>0.0</td>\n",
       "    </tr>\n",
       "    <tr>\n",
       "      <th>307508</th>\n",
       "      <td>6.0</td>\n",
       "      <td>0.0</td>\n",
       "    </tr>\n",
       "    <tr>\n",
       "      <th>307509</th>\n",
       "      <td>0.0</td>\n",
       "      <td>0.0</td>\n",
       "    </tr>\n",
       "    <tr>\n",
       "      <th>307510</th>\n",
       "      <td>0.0</td>\n",
       "      <td>0.0</td>\n",
       "    </tr>\n",
       "  </tbody>\n",
       "</table>\n",
       "<p>307511 rows × 2 columns</p>\n",
       "</div>"
      ],
      "text/plain": [
       "        OBS_30_CNT_SOCIAL_CIRCLE  DEF_30_CNT_SOCIAL_CIRCLE\n",
       "0                            2.0                       2.0\n",
       "1                            1.0                       0.0\n",
       "2                            0.0                       0.0\n",
       "3                            2.0                       0.0\n",
       "4                            0.0                       0.0\n",
       "...                          ...                       ...\n",
       "307506                       0.0                       0.0\n",
       "307507                       0.0                       0.0\n",
       "307508                       6.0                       0.0\n",
       "307509                       0.0                       0.0\n",
       "307510                       0.0                       0.0\n",
       "\n",
       "[307511 rows x 2 columns]"
      ]
     },
     "execution_count": 43,
     "metadata": {},
     "output_type": "execute_result"
    }
   ],
   "source": [
    "social_features_data"
   ]
  },
  {
   "cell_type": "code",
   "execution_count": 44,
   "metadata": {},
   "outputs": [
    {
     "data": {
      "text/plain": [
       "{0, 2}"
      ]
     },
     "execution_count": 44,
     "metadata": {},
     "output_type": "execute_result"
    }
   ],
   "source": [
    "social_missing = count_missing_values(social_features_data, social_features_data.columns)\n",
    "set(social_missing)"
   ]
  },
  {
   "cell_type": "code",
   "execution_count": 45,
   "metadata": {},
   "outputs": [],
   "source": [
    "application_train[\"SOCIAL MISSING DATA\"] = social_missing"
   ]
  },
  {
   "cell_type": "code",
   "execution_count": 46,
   "metadata": {},
   "outputs": [
    {
     "data": {
      "text/plain": [
       "<matplotlib.axes._subplots.AxesSubplot at 0x186d4f04208>"
      ]
     },
     "execution_count": 46,
     "metadata": {},
     "output_type": "execute_result"
    },
    {
     "data": {
      "image/png": "[encoded data removed]",
      "text/plain": [
       "<Figure size 432x288 with 1 Axes>"
      ]
     },
     "metadata": {},
     "output_type": "display_data"
    }
   ],
   "source": [
    "miss_building_and_target = []\n",
    "for index in range(2):\n",
    "    current = application_train[\"TARGET\"][application_train[\"SOCIAL MISSING DATA\"] == index * 2]\n",
    "    try:\n",
    "        miss_building_and_target.append(sum(current) / len(current))\n",
    "    except:\n",
    "        miss_building_and_target.append(0)\n",
    "\n",
    "sns.barplot(x = [0, 2], y = miss_building_and_target)"
   ]
  },
  {
   "cell_type": "code",
   "execution_count": 47,
   "metadata": {
    "scrolled": false
   },
   "outputs": [
    {
     "data": {
      "text/plain": [
       "OBS_30_CNT_SOCIAL_CIRCLE    1021\n",
       "DEF_30_CNT_SOCIAL_CIRCLE    1021\n",
       "dtype: int64"
      ]
     },
     "execution_count": 47,
     "metadata": {},
     "output_type": "execute_result"
    }
   ],
   "source": [
    "social_features_data.isnull().sum()"
   ]
  },
  {
   "cell_type": "markdown",
   "metadata": {},
   "source": [
    "Since there too poor missing values we prefer to not add \"MISSING SOCIAL DATA\" column."
   ]
  },
  {
   "cell_type": "code",
   "execution_count": 48,
   "metadata": {},
   "outputs": [
    {
     "data": {
      "text/plain": [
       "array(['AMT_INCOME_TOTAL', 'AMT_CREDIT', 'AMT_ANNUITY', 'AMT_GOODS_PRICE',\n",
       "       'REGION_POPULATION_RELATIVE', 'DAYS_REGISTRATION', 'OWN_CAR_AGE',\n",
       "       'CNT_FAM_MEMBERS', 'CNT_CHILDREN', 'DAYS_BIRTH', 'DAYS_EMPLOYED',\n",
       "       'DAYS_ID_PUBLISH'], dtype=object)"
      ]
     },
     "execution_count": 48,
     "metadata": {},
     "output_type": "execute_result"
    }
   ],
   "source": [
    "main_features = application_train.select_dtypes(\"float64\").columns[:8]\n",
    "main_features = np.append(main_features, application_train.select_dtypes(\"int64\").columns[2:6])\n",
    "main_features"
   ]
  },
  {
   "cell_type": "code",
   "execution_count": 49,
   "metadata": {},
   "outputs": [
    {
     "data": {
      "text/html": [
       "<div>\n",
       "<style scoped>\n",
       "    .dataframe tbody tr th:only-of-type {\n",
       "        vertical-align: middle;\n",
       "    }\n",
       "\n",
       "    .dataframe tbody tr th {\n",
       "        vertical-align: top;\n",
       "    }\n",
       "\n",
       "    .dataframe thead th {\n",
       "        text-align: right;\n",
       "    }\n",
       "</style>\n",
       "<table border=\"1\" class=\"dataframe\">\n",
       "  <thead>\n",
       "    <tr style=\"text-align: right;\">\n",
       "      <th></th>\n",
       "      <th>AMT_INCOME_TOTAL</th>\n",
       "      <th>AMT_CREDIT</th>\n",
       "      <th>AMT_ANNUITY</th>\n",
       "      <th>AMT_GOODS_PRICE</th>\n",
       "      <th>REGION_POPULATION_RELATIVE</th>\n",
       "      <th>DAYS_REGISTRATION</th>\n",
       "      <th>OWN_CAR_AGE</th>\n",
       "      <th>CNT_FAM_MEMBERS</th>\n",
       "      <th>CNT_CHILDREN</th>\n",
       "      <th>DAYS_BIRTH</th>\n",
       "      <th>DAYS_EMPLOYED</th>\n",
       "      <th>DAYS_ID_PUBLISH</th>\n",
       "    </tr>\n",
       "  </thead>\n",
       "  <tbody>\n",
       "    <tr>\n",
       "      <th>0</th>\n",
       "      <td>202500.0</td>\n",
       "      <td>406597.5</td>\n",
       "      <td>24700.5</td>\n",
       "      <td>351000.0</td>\n",
       "      <td>0.018801</td>\n",
       "      <td>-3648.0</td>\n",
       "      <td>NaN</td>\n",
       "      <td>1.0</td>\n",
       "      <td>0</td>\n",
       "      <td>-9461</td>\n",
       "      <td>-637</td>\n",
       "      <td>-2120</td>\n",
       "    </tr>\n",
       "    <tr>\n",
       "      <th>1</th>\n",
       "      <td>270000.0</td>\n",
       "      <td>1293502.5</td>\n",
       "      <td>35698.5</td>\n",
       "      <td>1129500.0</td>\n",
       "      <td>0.003541</td>\n",
       "      <td>-1186.0</td>\n",
       "      <td>NaN</td>\n",
       "      <td>2.0</td>\n",
       "      <td>0</td>\n",
       "      <td>-16765</td>\n",
       "      <td>-1188</td>\n",
       "      <td>-291</td>\n",
       "    </tr>\n",
       "    <tr>\n",
       "      <th>2</th>\n",
       "      <td>67500.0</td>\n",
       "      <td>135000.0</td>\n",
       "      <td>6750.0</td>\n",
       "      <td>135000.0</td>\n",
       "      <td>0.010032</td>\n",
       "      <td>-4260.0</td>\n",
       "      <td>26.0</td>\n",
       "      <td>1.0</td>\n",
       "      <td>0</td>\n",
       "      <td>-19046</td>\n",
       "      <td>-225</td>\n",
       "      <td>-2531</td>\n",
       "    </tr>\n",
       "    <tr>\n",
       "      <th>3</th>\n",
       "      <td>135000.0</td>\n",
       "      <td>312682.5</td>\n",
       "      <td>29686.5</td>\n",
       "      <td>297000.0</td>\n",
       "      <td>0.008019</td>\n",
       "      <td>-9833.0</td>\n",
       "      <td>NaN</td>\n",
       "      <td>2.0</td>\n",
       "      <td>0</td>\n",
       "      <td>-19005</td>\n",
       "      <td>-3039</td>\n",
       "      <td>-2437</td>\n",
       "    </tr>\n",
       "    <tr>\n",
       "      <th>4</th>\n",
       "      <td>121500.0</td>\n",
       "      <td>513000.0</td>\n",
       "      <td>21865.5</td>\n",
       "      <td>513000.0</td>\n",
       "      <td>0.028663</td>\n",
       "      <td>-4311.0</td>\n",
       "      <td>NaN</td>\n",
       "      <td>1.0</td>\n",
       "      <td>0</td>\n",
       "      <td>-19932</td>\n",
       "      <td>-3038</td>\n",
       "      <td>-3458</td>\n",
       "    </tr>\n",
       "    <tr>\n",
       "      <th>...</th>\n",
       "      <td>...</td>\n",
       "      <td>...</td>\n",
       "      <td>...</td>\n",
       "      <td>...</td>\n",
       "      <td>...</td>\n",
       "      <td>...</td>\n",
       "      <td>...</td>\n",
       "      <td>...</td>\n",
       "      <td>...</td>\n",
       "      <td>...</td>\n",
       "      <td>...</td>\n",
       "      <td>...</td>\n",
       "    </tr>\n",
       "    <tr>\n",
       "      <th>307506</th>\n",
       "      <td>157500.0</td>\n",
       "      <td>254700.0</td>\n",
       "      <td>27558.0</td>\n",
       "      <td>225000.0</td>\n",
       "      <td>0.032561</td>\n",
       "      <td>-8456.0</td>\n",
       "      <td>NaN</td>\n",
       "      <td>1.0</td>\n",
       "      <td>0</td>\n",
       "      <td>-9327</td>\n",
       "      <td>-236</td>\n",
       "      <td>-1982</td>\n",
       "    </tr>\n",
       "    <tr>\n",
       "      <th>307507</th>\n",
       "      <td>72000.0</td>\n",
       "      <td>269550.0</td>\n",
       "      <td>12001.5</td>\n",
       "      <td>225000.0</td>\n",
       "      <td>0.025164</td>\n",
       "      <td>-4388.0</td>\n",
       "      <td>NaN</td>\n",
       "      <td>1.0</td>\n",
       "      <td>0</td>\n",
       "      <td>-20775</td>\n",
       "      <td>365243</td>\n",
       "      <td>-4090</td>\n",
       "    </tr>\n",
       "    <tr>\n",
       "      <th>307508</th>\n",
       "      <td>153000.0</td>\n",
       "      <td>677664.0</td>\n",
       "      <td>29979.0</td>\n",
       "      <td>585000.0</td>\n",
       "      <td>0.005002</td>\n",
       "      <td>-6737.0</td>\n",
       "      <td>NaN</td>\n",
       "      <td>1.0</td>\n",
       "      <td>0</td>\n",
       "      <td>-14966</td>\n",
       "      <td>-7921</td>\n",
       "      <td>-5150</td>\n",
       "    </tr>\n",
       "    <tr>\n",
       "      <th>307509</th>\n",
       "      <td>171000.0</td>\n",
       "      <td>370107.0</td>\n",
       "      <td>20205.0</td>\n",
       "      <td>319500.0</td>\n",
       "      <td>0.005313</td>\n",
       "      <td>-2562.0</td>\n",
       "      <td>NaN</td>\n",
       "      <td>2.0</td>\n",
       "      <td>0</td>\n",
       "      <td>-11961</td>\n",
       "      <td>-4786</td>\n",
       "      <td>-931</td>\n",
       "    </tr>\n",
       "    <tr>\n",
       "      <th>307510</th>\n",
       "      <td>157500.0</td>\n",
       "      <td>675000.0</td>\n",
       "      <td>49117.5</td>\n",
       "      <td>675000.0</td>\n",
       "      <td>0.046220</td>\n",
       "      <td>-5128.0</td>\n",
       "      <td>NaN</td>\n",
       "      <td>2.0</td>\n",
       "      <td>0</td>\n",
       "      <td>-16856</td>\n",
       "      <td>-1262</td>\n",
       "      <td>-410</td>\n",
       "    </tr>\n",
       "  </tbody>\n",
       "</table>\n",
       "<p>307511 rows × 12 columns</p>\n",
       "</div>"
      ],
      "text/plain": [
       "        AMT_INCOME_TOTAL  AMT_CREDIT  AMT_ANNUITY  AMT_GOODS_PRICE  \\\n",
       "0               202500.0    406597.5      24700.5         351000.0   \n",
       "1               270000.0   1293502.5      35698.5        1129500.0   \n",
       "2                67500.0    135000.0       6750.0         135000.0   \n",
       "3               135000.0    312682.5      29686.5         297000.0   \n",
       "4               121500.0    513000.0      21865.5         513000.0   \n",
       "...                  ...         ...          ...              ...   \n",
       "307506          157500.0    254700.0      27558.0         225000.0   \n",
       "307507           72000.0    269550.0      12001.5         225000.0   \n",
       "307508          153000.0    677664.0      29979.0         585000.0   \n",
       "307509          171000.0    370107.0      20205.0         319500.0   \n",
       "307510          157500.0    675000.0      49117.5         675000.0   \n",
       "\n",
       "        REGION_POPULATION_RELATIVE  DAYS_REGISTRATION  OWN_CAR_AGE  \\\n",
       "0                         0.018801            -3648.0          NaN   \n",
       "1                         0.003541            -1186.0          NaN   \n",
       "2                         0.010032            -4260.0         26.0   \n",
       "3                         0.008019            -9833.0          NaN   \n",
       "4                         0.028663            -4311.0          NaN   \n",
       "...                            ...                ...          ...   \n",
       "307506                    0.032561            -8456.0          NaN   \n",
       "307507                    0.025164            -4388.0          NaN   \n",
       "307508                    0.005002            -6737.0          NaN   \n",
       "307509                    0.005313            -2562.0          NaN   \n",
       "307510                    0.046220            -5128.0          NaN   \n",
       "\n",
       "        CNT_FAM_MEMBERS  CNT_CHILDREN  DAYS_BIRTH  DAYS_EMPLOYED  \\\n",
       "0                   1.0             0       -9461           -637   \n",
       "1                   2.0             0      -16765          -1188   \n",
       "2                   1.0             0      -19046           -225   \n",
       "3                   2.0             0      -19005          -3039   \n",
       "4                   1.0             0      -19932          -3038   \n",
       "...                 ...           ...         ...            ...   \n",
       "307506              1.0             0       -9327           -236   \n",
       "307507              1.0             0      -20775         365243   \n",
       "307508              1.0             0      -14966          -7921   \n",
       "307509              2.0             0      -11961          -4786   \n",
       "307510              2.0             0      -16856          -1262   \n",
       "\n",
       "        DAYS_ID_PUBLISH  \n",
       "0                 -2120  \n",
       "1                  -291  \n",
       "2                 -2531  \n",
       "3                 -2437  \n",
       "4                 -3458  \n",
       "...                 ...  \n",
       "307506            -1982  \n",
       "307507            -4090  \n",
       "307508            -5150  \n",
       "307509             -931  \n",
       "307510             -410  \n",
       "\n",
       "[307511 rows x 12 columns]"
      ]
     },
     "execution_count": 49,
     "metadata": {},
     "output_type": "execute_result"
    }
   ],
   "source": [
    "main_data = application_train[main_features]\n",
    "main_data"
   ]
  },
  {
   "cell_type": "code",
   "execution_count": 50,
   "metadata": {
    "scrolled": false
   },
   "outputs": [
    {
     "data": {
      "text/plain": [
       "(12.5, -0.5)"
      ]
     },
     "execution_count": 50,
     "metadata": {},
     "output_type": "execute_result"
    },
    {
     "data": {
      "image/png": "[encoded data removed]",
      "text/plain": [
       "<Figure size 720x720 with 2 Axes>"
      ]
     },
     "metadata": {},
     "output_type": "display_data"
    }
   ],
   "source": [
    "plt.figure(figsize = (10, 10))\n",
    "ax = sns.heatmap(main_data.corr(), annot = True, linewidths = 0.5)\n",
    "ax.set_ylim(len(main_data.corr().columns) + 0.5, -0.5)"
   ]
  },
  {
   "cell_type": "markdown",
   "metadata": {},
   "source": [
    "Since AMT_CREDIT and AMT_ANNUITY are highly correlated we are tempted to remove the AMT_ANNUITY feature. But considered it seemes to be a relevant information we prefer to encapsulate this feature in a new parameter: AMT_ANNUITY / AMT_CREDIT.\n",
    "\n",
    "We do something similar for CNT_FAM_MEMBERS and CNT_CHILDREN where we create a new parameter: NOT_CHILDREN_FAM_MEMBERS."
   ]
  },
  {
   "cell_type": "code",
   "execution_count": 51,
   "metadata": {},
   "outputs": [
    {
     "data": {
      "text/html": [
       "<div>\n",
       "<style scoped>\n",
       "    .dataframe tbody tr th:only-of-type {\n",
       "        vertical-align: middle;\n",
       "    }\n",
       "\n",
       "    .dataframe tbody tr th {\n",
       "        vertical-align: top;\n",
       "    }\n",
       "\n",
       "    .dataframe thead th {\n",
       "        text-align: right;\n",
       "    }\n",
       "</style>\n",
       "<table border=\"1\" class=\"dataframe\">\n",
       "  <thead>\n",
       "    <tr style=\"text-align: right;\">\n",
       "      <th></th>\n",
       "      <th>AMT_CREDIT</th>\n",
       "      <th>AMT_ANNUITY</th>\n",
       "      <th>PERCENTAGE ANNUITY</th>\n",
       "    </tr>\n",
       "  </thead>\n",
       "  <tbody>\n",
       "    <tr>\n",
       "      <th>AMT_CREDIT</th>\n",
       "      <td>1.000000</td>\n",
       "      <td>0.770138</td>\n",
       "      <td>-0.558789</td>\n",
       "    </tr>\n",
       "    <tr>\n",
       "      <th>AMT_ANNUITY</th>\n",
       "      <td>0.770138</td>\n",
       "      <td>1.000000</td>\n",
       "      <td>-0.063489</td>\n",
       "    </tr>\n",
       "    <tr>\n",
       "      <th>PERCENTAGE ANNUITY</th>\n",
       "      <td>-0.558789</td>\n",
       "      <td>-0.063489</td>\n",
       "      <td>1.000000</td>\n",
       "    </tr>\n",
       "  </tbody>\n",
       "</table>\n",
       "</div>"
      ],
      "text/plain": [
       "                    AMT_CREDIT  AMT_ANNUITY  PERCENTAGE ANNUITY\n",
       "AMT_CREDIT            1.000000     0.770138           -0.558789\n",
       "AMT_ANNUITY           0.770138     1.000000           -0.063489\n",
       "PERCENTAGE ANNUITY   -0.558789    -0.063489            1.000000"
      ]
     },
     "execution_count": 51,
     "metadata": {},
     "output_type": "execute_result"
    }
   ],
   "source": [
    "application_train[\"PERCENTAGE ANNUITY\"] = application_train[\"AMT_ANNUITY\"] / application_train[\"AMT_CREDIT\"]\n",
    "application_train[[\"AMT_CREDIT\", \"AMT_ANNUITY\", \"PERCENTAGE ANNUITY\"]].corr()"
   ]
  },
  {
   "cell_type": "code",
   "execution_count": 52,
   "metadata": {},
   "outputs": [
    {
     "data": {
      "text/html": [
       "<div>\n",
       "<style scoped>\n",
       "    .dataframe tbody tr th:only-of-type {\n",
       "        vertical-align: middle;\n",
       "    }\n",
       "\n",
       "    .dataframe tbody tr th {\n",
       "        vertical-align: top;\n",
       "    }\n",
       "\n",
       "    .dataframe thead th {\n",
       "        text-align: right;\n",
       "    }\n",
       "</style>\n",
       "<table border=\"1\" class=\"dataframe\">\n",
       "  <thead>\n",
       "    <tr style=\"text-align: right;\">\n",
       "      <th></th>\n",
       "      <th>NOT_CHILDREN_FAM_MEMBERS</th>\n",
       "      <th>CNT_FAM_MEMBERS</th>\n",
       "      <th>CNT_CHILDREN</th>\n",
       "    </tr>\n",
       "  </thead>\n",
       "  <tbody>\n",
       "    <tr>\n",
       "      <th>NOT_CHILDREN_FAM_MEMBERS</th>\n",
       "      <td>1.00000</td>\n",
       "      <td>0.625430</td>\n",
       "      <td>0.178030</td>\n",
       "    </tr>\n",
       "    <tr>\n",
       "      <th>CNT_FAM_MEMBERS</th>\n",
       "      <td>0.62543</td>\n",
       "      <td>1.000000</td>\n",
       "      <td>0.879161</td>\n",
       "    </tr>\n",
       "    <tr>\n",
       "      <th>CNT_CHILDREN</th>\n",
       "      <td>0.17803</td>\n",
       "      <td>0.879161</td>\n",
       "      <td>1.000000</td>\n",
       "    </tr>\n",
       "  </tbody>\n",
       "</table>\n",
       "</div>"
      ],
      "text/plain": [
       "                          NOT_CHILDREN_FAM_MEMBERS  CNT_FAM_MEMBERS  \\\n",
       "NOT_CHILDREN_FAM_MEMBERS                   1.00000         0.625430   \n",
       "CNT_FAM_MEMBERS                            0.62543         1.000000   \n",
       "CNT_CHILDREN                               0.17803         0.879161   \n",
       "\n",
       "                          CNT_CHILDREN  \n",
       "NOT_CHILDREN_FAM_MEMBERS      0.178030  \n",
       "CNT_FAM_MEMBERS               0.879161  \n",
       "CNT_CHILDREN                  1.000000  "
      ]
     },
     "execution_count": 52,
     "metadata": {},
     "output_type": "execute_result"
    }
   ],
   "source": [
    "application_train[\"NOT_CHILDREN_FAM_MEMBERS\"] = application_train[\"CNT_FAM_MEMBERS\"] - application_train[\"CNT_CHILDREN\"]\n",
    "application_train[[\"NOT_CHILDREN_FAM_MEMBERS\", \"CNT_FAM_MEMBERS\", \"CNT_CHILDREN\"]].corr()"
   ]
  },
  {
   "cell_type": "code",
   "execution_count": 53,
   "metadata": {},
   "outputs": [
    {
     "data": {
      "text/plain": [
       "array(['AMT_INCOME_TOTAL', 'AMT_CREDIT', 'REGION_POPULATION_RELATIVE',\n",
       "       'DAYS_REGISTRATION', 'OWN_CAR_AGE', 'CNT_CHILDREN', 'DAYS_BIRTH',\n",
       "       'DAYS_EMPLOYED', 'DAYS_ID_PUBLISH'], dtype=object)"
      ]
     },
     "execution_count": 53,
     "metadata": {},
     "output_type": "execute_result"
    }
   ],
   "source": [
    "main_features = np.delete(main_features, [2, 3, 7])\n",
    "main_features"
   ]
  },
  {
   "cell_type": "code",
   "execution_count": 54,
   "metadata": {},
   "outputs": [
    {
     "data": {
      "text/plain": [
       "array(['AMT_INCOME_TOTAL', 'AMT_CREDIT', 'REGION_POPULATION_RELATIVE',\n",
       "       'DAYS_REGISTRATION', 'OWN_CAR_AGE', 'CNT_CHILDREN', 'DAYS_BIRTH',\n",
       "       'DAYS_EMPLOYED', 'DAYS_ID_PUBLISH', 'PERCENTAGE ANNUITY',\n",
       "       'NOT_CHILDREN_FAM_MEMBERS'], dtype=object)"
      ]
     },
     "execution_count": 54,
     "metadata": {},
     "output_type": "execute_result"
    }
   ],
   "source": [
    "main_features = np.append(main_features, \"PERCENTAGE ANNUITY\")\n",
    "main_features = np.append(main_features, \"NOT_CHILDREN_FAM_MEMBERS\")\n",
    "main_features"
   ]
  },
  {
   "cell_type": "code",
   "execution_count": 55,
   "metadata": {},
   "outputs": [],
   "source": [
    "application_test[\"PERCENTAGE ANNUITY\"] = application_test[\"AMT_ANNUITY\"] / application_test[\"AMT_CREDIT\"]\n",
    "application_test[\"NOT_CHILDREN_FAM_MEMBERS\"] = application_test[\"CNT_FAM_MEMBERS\"] - application_test[\"CNT_CHILDREN\"]"
   ]
  },
  {
   "cell_type": "code",
   "execution_count": 56,
   "metadata": {
    "scrolled": false
   },
   "outputs": [
    {
     "data": {
      "text/html": [
       "<div>\n",
       "<style scoped>\n",
       "    .dataframe tbody tr th:only-of-type {\n",
       "        vertical-align: middle;\n",
       "    }\n",
       "\n",
       "    .dataframe tbody tr th {\n",
       "        vertical-align: top;\n",
       "    }\n",
       "\n",
       "    .dataframe thead th {\n",
       "        text-align: right;\n",
       "    }\n",
       "</style>\n",
       "<table border=\"1\" class=\"dataframe\">\n",
       "  <thead>\n",
       "    <tr style=\"text-align: right;\">\n",
       "      <th></th>\n",
       "      <th>AMT_INCOME_TOTAL</th>\n",
       "      <th>AMT_CREDIT</th>\n",
       "      <th>REGION_POPULATION_RELATIVE</th>\n",
       "      <th>DAYS_REGISTRATION</th>\n",
       "      <th>OWN_CAR_AGE</th>\n",
       "      <th>CNT_CHILDREN</th>\n",
       "      <th>DAYS_BIRTH</th>\n",
       "      <th>DAYS_EMPLOYED</th>\n",
       "      <th>DAYS_ID_PUBLISH</th>\n",
       "      <th>PERCENTAGE ANNUITY</th>\n",
       "      <th>NOT_CHILDREN_FAM_MEMBERS</th>\n",
       "    </tr>\n",
       "  </thead>\n",
       "  <tbody>\n",
       "    <tr>\n",
       "      <th>0</th>\n",
       "      <td>202500.0</td>\n",
       "      <td>406597.5</td>\n",
       "      <td>0.018801</td>\n",
       "      <td>-3648.0</td>\n",
       "      <td>NaN</td>\n",
       "      <td>0</td>\n",
       "      <td>-9461</td>\n",
       "      <td>-637</td>\n",
       "      <td>-2120</td>\n",
       "      <td>0.060749</td>\n",
       "      <td>1.0</td>\n",
       "    </tr>\n",
       "    <tr>\n",
       "      <th>1</th>\n",
       "      <td>270000.0</td>\n",
       "      <td>1293502.5</td>\n",
       "      <td>0.003541</td>\n",
       "      <td>-1186.0</td>\n",
       "      <td>NaN</td>\n",
       "      <td>0</td>\n",
       "      <td>-16765</td>\n",
       "      <td>-1188</td>\n",
       "      <td>-291</td>\n",
       "      <td>0.027598</td>\n",
       "      <td>2.0</td>\n",
       "    </tr>\n",
       "    <tr>\n",
       "      <th>2</th>\n",
       "      <td>67500.0</td>\n",
       "      <td>135000.0</td>\n",
       "      <td>0.010032</td>\n",
       "      <td>-4260.0</td>\n",
       "      <td>26.0</td>\n",
       "      <td>0</td>\n",
       "      <td>-19046</td>\n",
       "      <td>-225</td>\n",
       "      <td>-2531</td>\n",
       "      <td>0.050000</td>\n",
       "      <td>1.0</td>\n",
       "    </tr>\n",
       "    <tr>\n",
       "      <th>3</th>\n",
       "      <td>135000.0</td>\n",
       "      <td>312682.5</td>\n",
       "      <td>0.008019</td>\n",
       "      <td>-9833.0</td>\n",
       "      <td>NaN</td>\n",
       "      <td>0</td>\n",
       "      <td>-19005</td>\n",
       "      <td>-3039</td>\n",
       "      <td>-2437</td>\n",
       "      <td>0.094941</td>\n",
       "      <td>2.0</td>\n",
       "    </tr>\n",
       "    <tr>\n",
       "      <th>4</th>\n",
       "      <td>121500.0</td>\n",
       "      <td>513000.0</td>\n",
       "      <td>0.028663</td>\n",
       "      <td>-4311.0</td>\n",
       "      <td>NaN</td>\n",
       "      <td>0</td>\n",
       "      <td>-19932</td>\n",
       "      <td>-3038</td>\n",
       "      <td>-3458</td>\n",
       "      <td>0.042623</td>\n",
       "      <td>1.0</td>\n",
       "    </tr>\n",
       "    <tr>\n",
       "      <th>...</th>\n",
       "      <td>...</td>\n",
       "      <td>...</td>\n",
       "      <td>...</td>\n",
       "      <td>...</td>\n",
       "      <td>...</td>\n",
       "      <td>...</td>\n",
       "      <td>...</td>\n",
       "      <td>...</td>\n",
       "      <td>...</td>\n",
       "      <td>...</td>\n",
       "      <td>...</td>\n",
       "    </tr>\n",
       "    <tr>\n",
       "      <th>307506</th>\n",
       "      <td>157500.0</td>\n",
       "      <td>254700.0</td>\n",
       "      <td>0.032561</td>\n",
       "      <td>-8456.0</td>\n",
       "      <td>NaN</td>\n",
       "      <td>0</td>\n",
       "      <td>-9327</td>\n",
       "      <td>-236</td>\n",
       "      <td>-1982</td>\n",
       "      <td>0.108198</td>\n",
       "      <td>1.0</td>\n",
       "    </tr>\n",
       "    <tr>\n",
       "      <th>307507</th>\n",
       "      <td>72000.0</td>\n",
       "      <td>269550.0</td>\n",
       "      <td>0.025164</td>\n",
       "      <td>-4388.0</td>\n",
       "      <td>NaN</td>\n",
       "      <td>0</td>\n",
       "      <td>-20775</td>\n",
       "      <td>365243</td>\n",
       "      <td>-4090</td>\n",
       "      <td>0.044524</td>\n",
       "      <td>1.0</td>\n",
       "    </tr>\n",
       "    <tr>\n",
       "      <th>307508</th>\n",
       "      <td>153000.0</td>\n",
       "      <td>677664.0</td>\n",
       "      <td>0.005002</td>\n",
       "      <td>-6737.0</td>\n",
       "      <td>NaN</td>\n",
       "      <td>0</td>\n",
       "      <td>-14966</td>\n",
       "      <td>-7921</td>\n",
       "      <td>-5150</td>\n",
       "      <td>0.044239</td>\n",
       "      <td>1.0</td>\n",
       "    </tr>\n",
       "    <tr>\n",
       "      <th>307509</th>\n",
       "      <td>171000.0</td>\n",
       "      <td>370107.0</td>\n",
       "      <td>0.005313</td>\n",
       "      <td>-2562.0</td>\n",
       "      <td>NaN</td>\n",
       "      <td>0</td>\n",
       "      <td>-11961</td>\n",
       "      <td>-4786</td>\n",
       "      <td>-931</td>\n",
       "      <td>0.054592</td>\n",
       "      <td>2.0</td>\n",
       "    </tr>\n",
       "    <tr>\n",
       "      <th>307510</th>\n",
       "      <td>157500.0</td>\n",
       "      <td>675000.0</td>\n",
       "      <td>0.046220</td>\n",
       "      <td>-5128.0</td>\n",
       "      <td>NaN</td>\n",
       "      <td>0</td>\n",
       "      <td>-16856</td>\n",
       "      <td>-1262</td>\n",
       "      <td>-410</td>\n",
       "      <td>0.072767</td>\n",
       "      <td>2.0</td>\n",
       "    </tr>\n",
       "  </tbody>\n",
       "</table>\n",
       "<p>307511 rows × 11 columns</p>\n",
       "</div>"
      ],
      "text/plain": [
       "        AMT_INCOME_TOTAL  AMT_CREDIT  REGION_POPULATION_RELATIVE  \\\n",
       "0               202500.0    406597.5                    0.018801   \n",
       "1               270000.0   1293502.5                    0.003541   \n",
       "2                67500.0    135000.0                    0.010032   \n",
       "3               135000.0    312682.5                    0.008019   \n",
       "4               121500.0    513000.0                    0.028663   \n",
       "...                  ...         ...                         ...   \n",
       "307506          157500.0    254700.0                    0.032561   \n",
       "307507           72000.0    269550.0                    0.025164   \n",
       "307508          153000.0    677664.0                    0.005002   \n",
       "307509          171000.0    370107.0                    0.005313   \n",
       "307510          157500.0    675000.0                    0.046220   \n",
       "\n",
       "        DAYS_REGISTRATION  OWN_CAR_AGE  CNT_CHILDREN  DAYS_BIRTH  \\\n",
       "0                 -3648.0          NaN             0       -9461   \n",
       "1                 -1186.0          NaN             0      -16765   \n",
       "2                 -4260.0         26.0             0      -19046   \n",
       "3                 -9833.0          NaN             0      -19005   \n",
       "4                 -4311.0          NaN             0      -19932   \n",
       "...                   ...          ...           ...         ...   \n",
       "307506            -8456.0          NaN             0       -9327   \n",
       "307507            -4388.0          NaN             0      -20775   \n",
       "307508            -6737.0          NaN             0      -14966   \n",
       "307509            -2562.0          NaN             0      -11961   \n",
       "307510            -5128.0          NaN             0      -16856   \n",
       "\n",
       "        DAYS_EMPLOYED  DAYS_ID_PUBLISH  PERCENTAGE ANNUITY  \\\n",
       "0                -637            -2120            0.060749   \n",
       "1               -1188             -291            0.027598   \n",
       "2                -225            -2531            0.050000   \n",
       "3               -3039            -2437            0.094941   \n",
       "4               -3038            -3458            0.042623   \n",
       "...               ...              ...                 ...   \n",
       "307506           -236            -1982            0.108198   \n",
       "307507         365243            -4090            0.044524   \n",
       "307508          -7921            -5150            0.044239   \n",
       "307509          -4786             -931            0.054592   \n",
       "307510          -1262             -410            0.072767   \n",
       "\n",
       "        NOT_CHILDREN_FAM_MEMBERS  \n",
       "0                            1.0  \n",
       "1                            2.0  \n",
       "2                            1.0  \n",
       "3                            2.0  \n",
       "4                            1.0  \n",
       "...                          ...  \n",
       "307506                       1.0  \n",
       "307507                       1.0  \n",
       "307508                       1.0  \n",
       "307509                       2.0  \n",
       "307510                       2.0  \n",
       "\n",
       "[307511 rows x 11 columns]"
      ]
     },
     "execution_count": 56,
     "metadata": {},
     "output_type": "execute_result"
    }
   ],
   "source": [
    "main_data = application_train[main_features]\n",
    "main_data"
   ]
  },
  {
   "cell_type": "code",
   "execution_count": null,
   "metadata": {
    "scrolled": true
   },
   "outputs": [],
   "source": [
    "check_missing_value_distributions(application_train, main_features, application_train['TARGET'])"
   ]
  },
  {
   "cell_type": "code",
   "execution_count": null,
   "metadata": {
    "scrolled": true
   },
   "outputs": [],
   "source": [
    "main_data.isnull().sum()"
   ]
  },
  {
   "cell_type": "code",
   "execution_count": null,
   "metadata": {},
   "outputs": [],
   "source": [
    "own_car_null = count_missing_values(application_train, [\"OWN_CAR_AGE\"])"
   ]
  },
  {
   "cell_type": "code",
   "execution_count": null,
   "metadata": {},
   "outputs": [],
   "source": [
    "application_train[\"OWN_CAR_NULL\"] = own_car_null"
   ]
  },
  {
   "cell_type": "code",
   "execution_count": null,
   "metadata": {},
   "outputs": [],
   "source": [
    "own_car_null = count_missing_values(application_test, [\"OWN_CAR_AGE\"])\n",
    "application_test[\"OWN_CAR_NULL\"] = own_car_null"
   ]
  },
  {
   "cell_type": "code",
   "execution_count": null,
   "metadata": {},
   "outputs": [],
   "source": [
    "ext_features = application_train.select_dtypes(\"float64\").columns[8:11]\n",
    "ext_features"
   ]
  },
  {
   "cell_type": "code",
   "execution_count": null,
   "metadata": {},
   "outputs": [],
   "source": [
    "ext_data = application_train[ext_features]\n",
    "ext_data"
   ]
  },
  {
   "cell_type": "code",
   "execution_count": null,
   "metadata": {
    "scrolled": false
   },
   "outputs": [],
   "source": [
    "plt.figure(figsize = (10, 10))\n",
    "ax = sns.heatmap(ext_data.corr(), annot = True, linewidths = 0.5)\n",
    "ax.set_ylim(len(ext_data.corr().columns) + 0.5, -0.5)"
   ]
  },
  {
   "cell_type": "code",
   "execution_count": null,
   "metadata": {
    "scrolled": false
   },
   "outputs": [],
   "source": [
    "check_missing_value_distributions(application_train, ext_features, application_train['TARGET'])"
   ]
  },
  {
   "cell_type": "code",
   "execution_count": null,
   "metadata": {},
   "outputs": [],
   "source": [
    "ext_data.isnull().sum()"
   ]
  },
  {
   "cell_type": "code",
   "execution_count": null,
   "metadata": {},
   "outputs": [],
   "source": [
    "flag_features = application_train.select_dtypes('int64').columns[21:-2]\n",
    "flag_features = np.append(flag_features, application_train.select_dtypes('int64').columns[6:12])\n",
    "flag_features"
   ]
  },
  {
   "cell_type": "code",
   "execution_count": null,
   "metadata": {},
   "outputs": [],
   "source": [
    "flag_document_data = application_train[flag_features]"
   ]
  },
  {
   "cell_type": "code",
   "execution_count": null,
   "metadata": {
    "scrolled": false
   },
   "outputs": [],
   "source": [
    "plt.figure(figsize = (30, 30))\n",
    "ax = sns.heatmap(flag_document_data.corr(), annot = True, linewidths = 0.5)\n",
    "ax.set_ylim(len(flag_document_data.corr().columns) + 0.5, -0.5)"
   ]
  },
  {
   "cell_type": "code",
   "execution_count": null,
   "metadata": {},
   "outputs": [],
   "source": [
    "last_features = application_train.select_dtypes(\"int64\").columns[12:21]\n",
    "last_features"
   ]
  },
  {
   "cell_type": "code",
   "execution_count": null,
   "metadata": {},
   "outputs": [],
   "source": [
    "last_data = application_train[last_features]"
   ]
  },
  {
   "cell_type": "code",
   "execution_count": null,
   "metadata": {
    "scrolled": false
   },
   "outputs": [],
   "source": [
    "plt.figure(figsize = (20, 20))\n",
    "ax = sns.heatmap(last_data.corr(), annot = True, linewidths = 0.5)\n",
    "ax.set_ylim(len(last_data.corr().columns) + 0.5, -0.5)"
   ]
  },
  {
   "cell_type": "code",
   "execution_count": null,
   "metadata": {
    "scrolled": true
   },
   "outputs": [],
   "source": [
    "last_data.isnull().sum()"
   ]
  },
  {
   "cell_type": "code",
   "execution_count": null,
   "metadata": {},
   "outputs": [],
   "source": [
    "last_data.std()"
   ]
  },
  {
   "cell_type": "code",
   "execution_count": null,
   "metadata": {},
   "outputs": [],
   "source": [
    "last_features = np.delete(last_features, [1, 3, 8])\n",
    "last_features"
   ]
  },
  {
   "cell_type": "markdown",
   "metadata": {},
   "source": [
    "---\n",
    "# Final dataset\n",
    "We can finally setup all the features of our data set."
   ]
  },
  {
   "cell_type": "code",
   "execution_count": null,
   "metadata": {
    "scrolled": true
   },
   "outputs": [],
   "source": [
    "all_features = building_features\n",
    "all_features = np.append(all_features, \"SK_ID_CURR\")\n",
    "all_features = np.append(all_features, \"MISSING BUILDING DATA\")\n",
    "all_features = np.append(all_features, enquiries_features)\n",
    "all_features = np.append(all_features, social_features)\n",
    "all_features = np.append(all_features, main_features)\n",
    "all_features = np.append(all_features, \"OWN_CAR_NULL\")\n",
    "all_features = np.append(all_features, ext_features)\n",
    "all_features = np.append(all_features, flag_features)\n",
    "all_features = np.append(all_features, last_features)\n",
    "all_features = np.append(all_features, application_train.select_dtypes('object').columns)\n",
    "all_features"
   ]
  },
  {
   "cell_type": "code",
   "execution_count": null,
   "metadata": {},
   "outputs": [],
   "source": [
    "np.where(all_features == 'ENQUIRIES MISSING DATA')\n",
    "\n",
    "#all_features[53]\n",
    "#np.where(all_features == 'SK_ID_CURR')"
   ]
  },
  {
   "cell_type": "code",
   "execution_count": null,
   "metadata": {},
   "outputs": [],
   "source": [
    "import numpy as np\n",
    "all_features = np.delete(all_features,54)\n",
    "#all_features['ENQUIRIES MISSING DATA'] "
   ]
  },
  {
   "cell_type": "code",
   "execution_count": null,
   "metadata": {},
   "outputs": [],
   "source": [
    "np.where(all_features == 'ENQUIRIES MISSING DATA')"
   ]
  },
  {
   "cell_type": "code",
   "execution_count": null,
   "metadata": {},
   "outputs": [],
   "source": [
    "final_application_train = application_train[np.append(all_features, \"TARGET\")]\n",
    "final_application_test = application_test[all_features]"
   ]
  },
  {
   "cell_type": "code",
   "execution_count": null,
   "metadata": {
    "scrolled": true
   },
   "outputs": [],
   "source": [
    "final_application_train.head()"
   ]
  },
  {
   "cell_type": "code",
   "execution_count": null,
   "metadata": {},
   "outputs": [],
   "source": [
    "final_application_test.head()"
   ]
  },
  {
   "cell_type": "code",
   "execution_count": null,
   "metadata": {},
   "outputs": [],
   "source": [
    "final_application_train.info()"
   ]
  },
  {
   "cell_type": "code",
   "execution_count": null,
   "metadata": {},
   "outputs": [],
   "source": []
  },
  {
   "cell_type": "markdown",
   "metadata": {},
   "source": [
    "# Let's upload our other datasets"
   ]
  },
  {
   "cell_type": "code",
   "execution_count": null,
   "metadata": {},
   "outputs": [],
   "source": [
    "bureau = pd.read_csv('bureau.csv')\n",
    "bureau.head()"
   ]
  },
  {
   "cell_type": "code",
   "execution_count": null,
   "metadata": {},
   "outputs": [],
   "source": [
    "bureau_balance = pd.read_csv('bureau_balance.csv')\n",
    "bureau_balance.head()"
   ]
  },
  {
   "cell_type": "code",
   "execution_count": null,
   "metadata": {},
   "outputs": [],
   "source": [
    "pos_cash_bal = pd.read_csv('POS_CASH_balance.csv')\n",
    "pos_cash_bal.head()"
   ]
  },
  {
   "cell_type": "code",
   "execution_count": null,
   "metadata": {},
   "outputs": [],
   "source": [
    "credit_card_bal= pd.read_csv('credit_card_balance.csv')\n",
    "credit_card_bal.head()"
   ]
  },
  {
   "cell_type": "code",
   "execution_count": null,
   "metadata": {},
   "outputs": [],
   "source": [
    "previous_app = pd.read_csv('previous_application.csv')\n",
    "previous_app.head()"
   ]
  },
  {
   "cell_type": "code",
   "execution_count": null,
   "metadata": {},
   "outputs": [],
   "source": [
    "installments_pay = pd.read_csv('installments_payments.csv')\n",
    "installments_pay.head()"
   ]
  },
  {
   "cell_type": "markdown",
   "metadata": {},
   "source": [
    "## A function to get some feature from that datasets."
   ]
  },
  {
   "cell_type": "code",
   "execution_count": null,
   "metadata": {},
   "outputs": [],
   "source": [
    "def condenser(df, apptr, persons, col):\n",
    "    col.remove('SK_ID_CURR')\n",
    "    k = 0\n",
    "    for i in persons:\n",
    "        case = df.loc[df['SK_ID_CURR']==i]\n",
    "        for c in col:\n",
    "            apptr.at[k,c] = sum(case[c])\n",
    "        k = k + 1\n",
    "    return apptr"
   ]
  },
  {
   "cell_type": "markdown",
   "metadata": {},
   "source": [
    "# And us getting them\n",
    "<br> Here we clean the datasets of Na's and add the new features fromn the otther datasets, after an imputation we will be ready to use our predictive method!"
   ]
  },
  {
   "cell_type": "code",
   "execution_count": null,
   "metadata": {},
   "outputs": [],
   "source": [
    "import sys\n",
    "import numpy as np\n",
    "\n",
    "final_application_train = pd.get_dummies(final_application_train)\n",
    "final_application_test = pd.get_dummies(final_application_test)\n",
    "#from bureau\n",
    "\n",
    "\n",
    "bureau2 = bureau[['SK_ID_CURR', 'CREDIT_ACTIVE','AMT_CREDIT_MAX_OVERDUE', 'AMT_CREDIT_SUM_DEBT',\n",
    "              'CREDIT_TYPE']].copy()\n",
    "bureau2 = pd.get_dummies(bureau2)\n",
    "\n",
    "for i in range(1,22):\n",
    "    final_application_train[bureau2.columns[i]] = np.nan\n",
    "    final_application_test[bureau2.columns[i]] = np.nan\n",
    "    \n",
    "ids = list(final_application_train.loc[:,'SK_ID_CURR']) \n",
    "idstest = list(final_application_test.loc[:,'SK_ID_CURR']) \n",
    "cl = list(bureau2.columns)\n",
    "final_application_train = condenser(bureau2, final_application_train, ids, cl )\n",
    "cl = list(bureau2.columns)\n",
    "final_application_test = condenser(bureau2, final_application_test, ids, cl )\n",
    "#final_application_train.head()  \n",
    "\n",
    "#from credit\n",
    "credit_card_bal2 = credit_card_bal[['SK_ID_CURR', 'AMT_BALANCE', 'AMT_CREDIT_LIMIT_ACTUAL',\n",
    "                                    'AMT_PAYMENT_TOTAL_CURRENT', 'CNT_DRAWINGS_ATM_CURRENT' ]].copy()\n",
    "for i in range(1,5):\n",
    "    final_application_train[credit_card_bal2.columns[i]] = np.nan\n",
    "    final_application_test[credit_card_bal2.columns[i]] = np.nan\n",
    "cl = list(credit_card_bal2.columns)\n",
    "final_application_train = condenser(credit_card_bal2, final_application_train, ids, cl )  \n",
    "cl = list(credit_card_bal2.columns)\n",
    "final_application_test = condenser(credit_card_bal2, final_application_test, idstest, cl )\n",
    "#final_application_train.head()   \n",
    "\n",
    "#from previous app\n",
    "previous_app2 = previous_app[['SK_ID_CURR', 'AMT_ANNUITY', 'AMT_CREDIT', 'RATE_INTEREST_PRIMARY', 'DAYS_TERMINATION']].copy()\n",
    "for i in range(1,5):\n",
    "    final_application_train[previous_app2.columns[i]] = np.nan\n",
    "    final_application_test[previous_app2.columns[i]] = np.nan\n",
    "cl = list(previous_app2.columns)\n",
    "final_application_train = condenser(previous_app2, final_application_train, ids, cl ) \n",
    "cl = list(previous_app2.columns)\n",
    "final_application_test = condenser(previous_app2, final_application_test, idstest, cl )\n",
    "#final_application_train.head()"
   ]
  },
  {
   "cell_type": "markdown",
   "metadata": {},
   "source": [
    "Imputation"
   ]
  },
  {
   "cell_type": "code",
   "execution_count": null,
   "metadata": {},
   "outputs": [],
   "source": [
    "#In this i check the na, impute and encode the cathegorcial variables\n",
    "def Checkimputandencode(df):\n",
    "    for colum in df.columns:\n",
    "        if df[colum].dtype.name == 'int64':\n",
    "            df[colum] = df[colum].fillna(int(round(df[colum].mean())))\n",
    "        elif df[colum].dtype.name == 'float64':\n",
    "            df[colum] = df[colum].fillna(df[colum].mean())\n",
    "        elif df[colum].dtype.name == 'bool':\n",
    "            df[colum] = df[colum]*1        \n",
    "    df = df.apply(lambda x: x.fillna(x.value_counts().index[0]))\n",
    "    df = pd.get_dummies(df)\n",
    "    return df"
   ]
  },
  {
   "cell_type": "code",
   "execution_count": null,
   "metadata": {},
   "outputs": [],
   "source": [
    "final_application_train.to = Checkimputandencode(final_application_train)\n",
    "final_application_test.to = Checkimputandencode(final_application_test)"
   ]
  },
  {
   "cell_type": "code",
   "execution_count": null,
   "metadata": {},
   "outputs": [],
   "source": [
    "final_application_train.to_csv(\"selected_features_train.csv\")\n",
    "final_application_test.to_csv(\"selected_features_test.csv\")"
   ]
  },
  {
   "cell_type": "markdown",
   "metadata": {},
   "source": [
    "# NOw K-fold"
   ]
  },
  {
   "cell_type": "code",
   "execution_count": null,
   "metadata": {},
   "outputs": [],
   "source": [
    "data =final_application_train.loc[:, final_application_train.columns != 'TARGET']\n",
    "y = final_application_train['TARGET']\n",
    "data.shape, y.shape"
   ]
  },
  {
   "cell_type": "code",
   "execution_count": null,
   "metadata": {},
   "outputs": [],
   "source": [
    "import pandas as pd\n",
    "import numpy as np\n",
    "from sklearn.metrics import accuracy_score, confusion_matrix\n",
    "from sklearn.ensemble import RandomForestClassifier\n",
    "from sklearn import svm\n",
    "from sklearn.model_selection import cross_val_score\n",
    "model = svm.SVC()\n",
    "#Should I put here model2,3,4 about random forest etc and see whart score is better?????\n",
    "accuracy = cross_val_score(model, data, y, scoring='accuracy', cv = 10)\n",
    "print(accuracy)\n",
    "#get the mean of each fold \n",
    "print(\"Accuracy of Model with Cross Validation is:\",accuracy.mean() * 100)                    "
   ]
  }
 ],
 "metadata": {
  "kernelspec": {
   "display_name": "Python 3",
   "language": "python",
   "name": "python3"
  },
  "language_info": {
   "codemirror_mode": {
    "name": "ipython",
    "version": 3
   },
   "file_extension": ".py",
   "mimetype": "text/x-python",
   "name": "python",
   "nbconvert_exporter": "python",
   "pygments_lexer": "ipython3",
   "version": "3.7.5"
  }
 },
 "nbformat": 4,
 "nbformat_minor": 2
}
